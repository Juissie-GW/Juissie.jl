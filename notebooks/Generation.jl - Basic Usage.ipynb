{
 "cells": [
  {
   "cell_type": "code",
   "execution_count": 1,
   "id": "c680e925-c250-45a2-a590-8c3f78ec727f",
   "metadata": {},
   "outputs": [],
   "source": [
    "include(\"../src/Juissie.jl\")\n",
    "using .Juissie"
   ]
  },
  {
   "cell_type": "markdown",
   "id": "6ab3bd96-b67c-49bd-b4bd-bdaff8e11f4a",
   "metadata": {},
   "source": [
    "### Initializing a Generator\n",
    "Generators are how we will generate text for a given query (and contextual information from our vector DB).\n",
    "\n",
    "Here, we'll initialize an `OAIGenerator`, which calls OpenAI's\n",
    "gpt-3.5-turbo completion endpoint. If you have an OpenAI API key you can do one of two things:\n",
    "1. Pass it directly to `OAIGenerator`, e.g. `generator = OAIGenerator(\"YOUR_KEY_HERE\")`. If you do this, though, make sure you don't accidentally commit your key!\n",
    "2. Leave the `auth_token` argument as `nothing`. When you do this, `OAIGenerator` will look in your environmental variables for a key called \"OAI_KEY\".\n",
    "\n",
    "We'll be doing the second option:"
   ]
  },
  {
   "cell_type": "code",
   "execution_count": 2,
   "id": "6ed588e0-420c-4c31-bb55-a1816787c479",
   "metadata": {},
   "outputs": [],
   "source": [
    "generator = OAIGenerator();"
   ]
  },
  {
   "cell_type": "code",
   "execution_count": 4,
   "id": "6dc5c5dd-f087-4437-a4f9-17446d291488",
   "metadata": {},
   "outputs": [
    {
     "data": {
      "text/plain": [
       "\"9, 18, 27, 36, 45, 54, 63, 72, 81, 90, 99\""
      ]
     },
     "execution_count": 4,
     "metadata": {},
     "output_type": "execute_result"
    }
   ],
   "source": [
    "result = generate(\n",
    "    generator,\n",
    "    \"Count to 100 by increments of x\", # this is the main query, i.e. your question\n",
    "    [\"x=9\"] # this is the context we will provide (chunks from the vector db)\n",
    ")"
   ]
  },
  {
   "cell_type": "markdown",
   "id": "2aa402fa-8e64-4f3a-af3d-91d6ec1da7f4",
   "metadata": {},
   "source": [
    "### Generating With A Corpus\n",
    "\n",
    "We're going to create a generator of type OAIGeneratorWithCorpus, which is just like OAIGenerator, except it also has a corpus attached. The usual upsert functions one might apply to a corpus have equivalents for structs that subtype GeneratorWithCorpus, as well, such as:\n",
    "- upsert_chunk_to_generator\n",
    "- upsert_document_to_generator\n",
    "- upsert_document_from_url_to_generator\n",
    "\n",
    "We'll fill the generator's corpus with chunks from the Wikipedia article on Aristotle, then ask the generator a niche question whose answer is found in that article."
   ]
  },
  {
   "cell_type": "code",
   "execution_count": 2,
   "id": "5bd5d230-e251-4aaf-aa11-24070ce31c6a",
   "metadata": {},
   "outputs": [],
   "source": [
    "generator = OAIGeneratorWithCorpus();"
   ]
  },
  {
   "cell_type": "code",
   "execution_count": 3,
   "id": "a99f7223-d553-452e-b012-b03d1f2c9f58",
   "metadata": {},
   "outputs": [],
   "source": [
    "upsert_document_from_url_to_generator(\n",
    "    generator, \n",
    "    \"https://en.wikipedia.org/wiki/Aristotle\", \n",
    "    \"Wikipedia: Aristotle\"\n",
    ")"
   ]
  },
  {
   "cell_type": "code",
   "execution_count": 5,
   "id": "f298e132-9271-4dd8-97ea-efc46dad2237",
   "metadata": {},
   "outputs": [
    {
     "name": "stdout",
     "output_type": "stream",
     "text": [
      "Tragedy, according to Aristotle, is composed of six elements: plot-structure, character, style, thought, spectacle, and lyric poetry.[22, 23, 4]\n"
     ]
    }
   ],
   "source": [
    "result, idx_list, doc_names, chunks = generate_with_corpus(\n",
    "    generator,\n",
    "    \"According to Aristotle, what are the six elements of which tragedy is composed?\",\n",
    "    3,\n",
    "    0.7\n",
    ");\n",
    "\n",
    "println(result, idx_list)"
   ]
  },
  {
   "cell_type": "markdown",
   "id": "5343f49a-20ed-4812-bb60-13a3afe1a509",
   "metadata": {},
   "source": [
    "While not necessary, it would be really cool if our top-retrieved context result is the exact section that has the answer (this is indeed the case - see the fourth to last sentence):"
   ]
  },
  {
   "cell_type": "code",
   "execution_count": 8,
   "id": "dff18de2-7837-4f57-957a-a327be74ad4f",
   "metadata": {
    "scrolled": true
   },
   "outputs": [
    {
     "name": "stdout",
     "output_type": "stream",
     "text": [
      "[131]  Aristotle also outlines two kinds of rhetorical  proofs :  enthymeme  (proof by  syllogism ) and  paradeigma  (proof by example). [132] Aristotle writes in his  Poetics  that  epic poetry , tragedy, comedy,  dithyrambic poetry , painting, sculpture, music, and dance are all fundamentally acts of  mimesis  (\"imitation\"), each varying in imitation by medium, object, and manner. [133] [134]  He applies the term  mimesis  both as a property of a work of art and also as the product of the artist's intention [133]  and contends that the audience's realisation of the  mimesis  is vital to understanding the work itself. [133]  Aristotle states that  mimesis  is a natural instinct of humanity that separates humans from animals [133] [135]  and that all human artistry \"follows the pattern of nature\". [133]  Because of this, Aristotle believed that each of the mimetic arts possesses what  Stephen Halliwell  calls \"highly structured procedures for the achievement of their purposes.\" [136]  For example, music imitates with the media of rhythm and harmony, whereas dance imitates with rhythm alone, and poetry with language. The forms also differ in their object of imitation. Comedy, for instance, is a dramatic imitation of men worse than average; whereas tragedy imitates men slightly better than average. Lastly, the forms differ in their manner of imitation – through narrative or character, through change or no change, and through drama or no drama. [137] While it is believed that Aristotle's  Poetics  originally comprised two books – one on comedy and one on tragedy – only the portion that focuses on tragedy has survived. Aristotle taught that tragedy is composed of six elements: plot-structure, character, style, thought, spectacle, and lyric poetry. [139]  The characters in a tragedy are merely a means of driving the story; and the plot, not the characters, is the chief focus of tragedy. Tragedy is the imitation of action arousing pity and fear, and is meant to effect the  catharsis  of those same emotions. Aristotle concludes  Poetics  with a discussion on which, if either, is superior: epic or tragic mimesis.\n"
     ]
    }
   ],
   "source": [
    "println(chunks[1])"
   ]
  },
  {
   "cell_type": "markdown",
   "id": "11eb888f-9b3d-416b-86a1-6c262323027a",
   "metadata": {},
   "source": [
    "### Philosophers\n",
    "Here, we will create an on-disk corpus and fill it with the Wikipedia articles about ten historical Greek philosophers."
   ]
  },
  {
   "cell_type": "code",
   "execution_count": 8,
   "id": "c1ae4e34-9bb6-486a-aa55-d5e6c7a2001d",
   "metadata": {},
   "outputs": [],
   "source": [
    "generator = OAIGeneratorWithCorpus(nothing, \"greek_philosophers\");\n",
    "greek_philosophers = Dict(\n",
    "    \"Aristotle\" => \"https://en.wikipedia.org/wiki/Aristotle\",\n",
    "    \"Democrates\" => \"https://en.wikipedia.org/wiki/Democrates\",\n",
    "    \"Diogenes\" => \"https://en.wikipedia.org/wiki/Diogenes_Laertius\",\n",
    "    \"Epictetus\" => \"https://en.wikipedia.org/wiki/Epictetus\",\n",
    "    \"Epicurus\" => \"https://en.wikipedia.org/wiki/Epicurus\",\n",
    "    \"Heraclitus\" => \"https://en.wikipedia.org/wiki/Heraclitus\",\n",
    "    \"Parmenides\" => \"https://en.wikipedia.org/wiki/Parmenides\",\n",
    "    \"Plato\" => \"https://en.wikipedia.org/wiki/Plato\",\n",
    "    \"Socrates\" => \"https://en.wikipedia.org/wiki/Socrates\",\n",
    "    \"Xenophon\" => \"https://en.wikipedia.org/wiki/Xenophon\"\n",
    ");\n",
    "for (key, value) in greek_philosophers\n",
    "    upsert_document_from_url_to_generator(\n",
    "        generator, \n",
    "        value, \n",
    "        \"Wikipedia: $key\"\n",
    "    )\n",
    "end"
   ]
  },
  {
   "cell_type": "markdown",
   "id": "2e5e3106-d025-49f4-9e00-f1e4a8d3cf21",
   "metadata": {},
   "source": [
    "Rather than directly query that generator, let's load a *new* generator from the `greek_philosophers` artifacts and query *that*."
   ]
  },
  {
   "cell_type": "code",
   "execution_count": 2,
   "id": "90e22e2c-d913-441a-85bd-71083b9318cc",
   "metadata": {},
   "outputs": [],
   "source": [
    "generator = load_OAIGeneratorWithCorpus(\"greek_philosophers\");"
   ]
  },
  {
   "cell_type": "code",
   "execution_count": 3,
   "id": "3ad3c2ba-d4a6-4f33-afeb-8de22db57984",
   "metadata": {},
   "outputs": [
    {
     "name": "stdout",
     "output_type": "stream",
     "text": [
      "Xenophon died in Corinth in 354 BC at the age of 74 or 75.[85, 93, 87, 86, 90]\n"
     ]
    }
   ],
   "source": [
    "result, idx_list, doc_names, chunks = generate_with_corpus(\n",
    "    generator,\n",
    "    \"Where did Xenophon die? How old was he?\",\n",
    "    5,\n",
    "    0.7\n",
    ");\n",
    "\n",
    "println(result, idx_list)"
   ]
  },
  {
   "cell_type": "code",
   "execution_count": null,
   "id": "37616a7f-e037-4663-a981-be1822c17593",
   "metadata": {},
   "outputs": [],
   "source": []
  }
 ],
 "metadata": {
  "kernelspec": {
   "display_name": "Julia 1.10.0",
   "language": "julia",
   "name": "julia-1.10"
  },
  "language_info": {
   "file_extension": ".jl",
   "mimetype": "application/julia",
   "name": "julia",
   "version": "1.10.0"
  }
 },
 "nbformat": 4,
 "nbformat_minor": 5
}
