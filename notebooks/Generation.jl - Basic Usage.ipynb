{
 "cells": [
  {
   "cell_type": "code",
   "execution_count": 2,
   "id": "c680e925-c250-45a2-a590-8c3f78ec727f",
   "metadata": {},
   "outputs": [],
   "source": [
    "include(\"../src/Juissie.jl\")\n",
    "using .Juissie"
   ]
  },
  {
   "cell_type": "markdown",
   "id": "6ab3bd96-b67c-49bd-b4bd-bdaff8e11f4a",
   "metadata": {
    "jp-MarkdownHeadingCollapsed": true
   },
   "source": [
    "### Initializing a Generator\n",
    "Generators are how we will generate text for a given query (and contextual information from our vector DB).\n",
    "\n",
    "Here, we'll initialize an `OAIGenerator`, which calls OpenAI's\n",
    "gpt-3.5-turbo completion endpoint. If you have an OpenAI API key you can do one of two things:\n",
    "1. Pass it directly to `OAIGenerator`, e.g. `generator = OAIGenerator(\"YOUR_KEY_HERE\")`. If you do this, though, make sure you don't accidentally commit your key!\n",
    "2. Leave the `auth_token` argument as `nothing`. When you do this, `OAIGenerator` will look in your environmental variables for a key called \"OAI_KEY\".\n",
    "\n",
    "We'll be doing the second option:"
   ]
  },
  {
   "cell_type": "code",
   "execution_count": 2,
   "id": "6ed588e0-420c-4c31-bb55-a1816787c479",
   "metadata": {},
   "outputs": [],
   "source": [
    "generator = OAIGenerator();"
   ]
  },
  {
   "cell_type": "code",
   "execution_count": 3,
   "id": "6dc5c5dd-f087-4437-a4f9-17446d291488",
   "metadata": {},
   "outputs": [
    {
     "data": {
      "text/plain": [
       "\"9, 18, 27, 36, 45, 54, 63, 72, 81, 90, 99\""
      ]
     },
     "execution_count": 3,
     "metadata": {},
     "output_type": "execute_result"
    }
   ],
   "source": [
    "result = generate(\n",
    "    generator,\n",
    "    \"Count to 100 by increments of x\", # this is the main query, i.e. your question\n",
    "    [\"x=9\"] # this is the context we will provide (chunks from the vector db)\n",
    ")"
   ]
  },
  {
   "cell_type": "markdown",
   "id": "2aa402fa-8e64-4f3a-af3d-91d6ec1da7f4",
   "metadata": {
    "jp-MarkdownHeadingCollapsed": true
   },
   "source": [
    "### Generating With A Corpus\n",
    "\n",
    "We're going to create a generator of type OAIGeneratorWithCorpus, which is just like OAIGenerator, except it also has a corpus attached. The usual upsert functions one might apply to a corpus have equivalents for structs that subtype GeneratorWithCorpus, as well, such as:\n",
    "- upsert_chunk_to_generator\n",
    "- upsert_document_to_generator\n",
    "- upsert_document_from_url_to_generator\n",
    "\n",
    "We'll fill the generator's corpus with chunks from the Wikipedia article on Aristotle, then ask the generator a niche question whose answer is found in that article."
   ]
  },
  {
   "cell_type": "code",
   "execution_count": 4,
   "id": "5bd5d230-e251-4aaf-aa11-24070ce31c6a",
   "metadata": {},
   "outputs": [],
   "source": [
    "generator = OAIGeneratorWithCorpus();"
   ]
  },
  {
   "cell_type": "code",
   "execution_count": 3,
   "id": "a99f7223-d553-452e-b012-b03d1f2c9f58",
   "metadata": {},
   "outputs": [],
   "source": [
    "upsert_document_from_url_to_generator(\n",
    "    generator, \n",
    "    \"https://en.wikipedia.org/wiki/Aristotle\", \n",
    "    \"Wikipedia: Aristotle\"\n",
    ")"
   ]
  },
  {
   "cell_type": "code",
   "execution_count": 5,
   "id": "f298e132-9271-4dd8-97ea-efc46dad2237",
   "metadata": {},
   "outputs": [
    {
     "name": "stdout",
     "output_type": "stream",
     "text": [
      "Tragedy, according to Aristotle, is composed of six elements: plot-structure, character, style, thought, spectacle, and lyric poetry.[22, 23, 4]\n"
     ]
    }
   ],
   "source": [
    "result, idx_list, doc_names, chunks = generate_with_corpus(\n",
    "    generator,\n",
    "    \"According to Aristotle, what are the six elements of which tragedy is composed?\",\n",
    "    3,\n",
    "    0.7\n",
    ");\n",
    "\n",
    "println(result, idx_list)"
   ]
  },
  {
   "cell_type": "markdown",
   "id": "5343f49a-20ed-4812-bb60-13a3afe1a509",
   "metadata": {},
   "source": [
    "While not necessary, it would be really cool if our top-retrieved context result is the exact section that has the answer (this is indeed the case - see the fourth to last sentence):"
   ]
  },
  {
   "cell_type": "code",
   "execution_count": 8,
   "id": "dff18de2-7837-4f57-957a-a327be74ad4f",
   "metadata": {
    "scrolled": true
   },
   "outputs": [
    {
     "name": "stdout",
     "output_type": "stream",
     "text": [
      "[131]  Aristotle also outlines two kinds of rhetorical  proofs :  enthymeme  (proof by  syllogism ) and  paradeigma  (proof by example). [132] Aristotle writes in his  Poetics  that  epic poetry , tragedy, comedy,  dithyrambic poetry , painting, sculpture, music, and dance are all fundamentally acts of  mimesis  (\"imitation\"), each varying in imitation by medium, object, and manner. [133] [134]  He applies the term  mimesis  both as a property of a work of art and also as the product of the artist's intention [133]  and contends that the audience's realisation of the  mimesis  is vital to understanding the work itself. [133]  Aristotle states that  mimesis  is a natural instinct of humanity that separates humans from animals [133] [135]  and that all human artistry \"follows the pattern of nature\". [133]  Because of this, Aristotle believed that each of the mimetic arts possesses what  Stephen Halliwell  calls \"highly structured procedures for the achievement of their purposes.\" [136]  For example, music imitates with the media of rhythm and harmony, whereas dance imitates with rhythm alone, and poetry with language. The forms also differ in their object of imitation. Comedy, for instance, is a dramatic imitation of men worse than average; whereas tragedy imitates men slightly better than average. Lastly, the forms differ in their manner of imitation – through narrative or character, through change or no change, and through drama or no drama. [137] While it is believed that Aristotle's  Poetics  originally comprised two books – one on comedy and one on tragedy – only the portion that focuses on tragedy has survived. Aristotle taught that tragedy is composed of six elements: plot-structure, character, style, thought, spectacle, and lyric poetry. [139]  The characters in a tragedy are merely a means of driving the story; and the plot, not the characters, is the chief focus of tragedy. Tragedy is the imitation of action arousing pity and fear, and is meant to effect the  catharsis  of those same emotions. Aristotle concludes  Poetics  with a discussion on which, if either, is superior: epic or tragic mimesis.\n"
     ]
    }
   ],
   "source": [
    "println(chunks[1])"
   ]
  },
  {
   "cell_type": "markdown",
   "id": "11eb888f-9b3d-416b-86a1-6c262323027a",
   "metadata": {},
   "source": [
    "### More Involved Example: Philosophers\n",
    "Here, we will create an on-disk corpus and fill it with the articles about Greek philosophers."
   ]
  },
  {
   "cell_type": "code",
   "execution_count": 3,
   "id": "6becafa8-038d-4001-8065-0c95b50e3aed",
   "metadata": {},
   "outputs": [
    {
     "name": "stderr",
     "output_type": "stream",
     "text": [
      "\u001b[33m\u001b[1m┌ \u001b[22m\u001b[39m\u001b[33m\u001b[1mWarning: \u001b[22m\u001b[39mA corpus by this name already exists. Do you want to proceed? Doing so will overwrite the existing corpus artifacts. [y/n]\n",
      "\u001b[33m\u001b[1m└ \u001b[22m\u001b[39m\u001b[90m@ Main.Juissie.Generation.SemanticSearch.Backend ~/Desktop/Juissie.jl/src/SemanticSearch/Backend.jl:113\u001b[39m\n"
     ]
    },
    {
     "name": "stdin",
     "output_type": "stream",
     "text": [
      "stdin>  y\n"
     ]
    }
   ],
   "source": [
    "generator = OAIGeneratorWithCorpus(\"greek_philosophers\");"
   ]
  },
  {
   "cell_type": "code",
   "execution_count": 4,
   "id": "c1ae4e34-9bb6-486a-aa55-d5e6c7a2001d",
   "metadata": {},
   "outputs": [],
   "source": [
    "greek_philosophers = Dict(\n",
    "    \"Wikipedia: Aristotle\" => \"https://en.wikipedia.org/wiki/Aristotle\",\n",
    "    \"Wikipedia: Democrates\" => \"https://en.wikipedia.org/wiki/Democrates\",\n",
    "    \"Wikipedia: Diogenes\" => \"https://en.wikipedia.org/wiki/Diogenes_Laertius\",\n",
    "    \"Wikipedia: Epictetus\" => \"https://en.wikipedia.org/wiki/Epictetus\",\n",
    "    \"Wikipedia: Epicurus\" => \"https://en.wikipedia.org/wiki/Epicurus\",\n",
    "    \"Wikipedia: Heraclitus\" => \"https://en.wikipedia.org/wiki/Heraclitus\",\n",
    "    \"Wikipedia: Parmenides\" => \"https://en.wikipedia.org/wiki/Parmenides\",\n",
    "    \"Wikipedia: Plato\" => \"https://en.wikipedia.org/wiki/Plato\",\n",
    "    \"Wikipedia: Socrates\" => \"https://en.wikipedia.org/wiki/Socrates\",\n",
    "    \"Wikipedia: Xenophon\" => \"https://en.wikipedia.org/wiki/Xenophon\",\n",
    "    \"Wikipedia: Ancient Greek philosophy\" => \"https://en.wikipedia.org/wiki/Ancient_Greek_philosophy\",\n",
    "    \"Internet Encyclopedia of Philosophy: Ancient Greek Philosophy\" => \"https://iep.utm.edu/ancient-greek-philosophy/\",\n",
    "    \"Stanford Encyclopedia of Philosophy: Presocratic Philosophy\" => \"https://plato.stanford.edu/entries/presocratics/\",\n",
    "    \"Stanford Encyclopedia of Philosophy: Ancient Political Philosophy\" => \"https://plato.stanford.edu/entries/ancient-political/\",\n",
    "    \"Stanford Encyclopedia of Philosophy: Aristotle’s Political Theory\" => \"https://plato.stanford.edu/entries/aristotle-politics/\",\n",
    "    \"Stanford Encyclopedia of Philosophy: Anaxagoras\" => \"https://plato.stanford.edu/entries/anaxagoras/\",\n",
    "    \"Stanford Encyclopedia of Philosophy: Heraclitus\" => \"https://plato.stanford.edu/entries/heraclitus/\",\n",
    "    \"Stanford Encyclopedia of Philosophy: Pythagoras\" => \"https://plato.stanford.edu/entries/pythagoras/\",\n",
    "    \"Stanford Encyclopedia of Philosophy: Ancient Ethical Theory\" => \"https://plato.stanford.edu/entries/ethics-ancient/\",\n",
    "    \"Stanford Encyclopedia of Philosophy: Theophrastus\" => \"https://plato.stanford.edu/entries/theophrastus/\",\n",
    "    \"Stanford Encyclopedia of Philosophy: Zeno’s Paradoxes\" => \"https://seop.illc.uva.nl/entries/paradox-zeno/\",\n",
    "    \"Stanford Encyclopedia of Philosophy: The Sophists\" => \"https://plato.stanford.edu/entries/sophists/\",\n",
    "    \"Stanford Encyclopedia of Philosophy: Protagoras\" => \"https://plato.stanford.edu/entries/protagoras/\",\n",
    "    \"Stanford Encyclopedia of Philosophy: Parmenides\" => \"https://plato.stanford.edu/entries/parmenides/\",\n",
    "    \"Stanford Encyclopedia of Philosophy: Empedocles\" => \"https://plato.stanford.edu/entries/empedocles/\",\n",
    ");\n",
    "for (key, value) in greek_philosophers\n",
    "    upsert_document_from_url_to_generator(\n",
    "        generator, \n",
    "        value, \n",
    "        key\n",
    "    )\n",
    "end"
   ]
  },
  {
   "cell_type": "code",
   "execution_count": 5,
   "id": "94980514-e82b-4190-b169-68c8ecf7c67b",
   "metadata": {},
   "outputs": [
    {
     "name": "stdout",
     "output_type": "stream",
     "text": [
      "Anaxagoras and Empedocles both delved into the fundamental elements of the cosmos, but their approaches and philosophies diverged significantly. Anaxagoras, hailing from Clazomenae, introduced the concept of \"everything-in-everything\" and attributed the cosmos' creation to \"nous,\" or intellect. He was renowned for explaining eclipses and posited radical scientific theories about celestial bodies. In contrast, Empedocles, a native of Acragas in Sicily, championed a four-part theory of roots (earth, water, air, fire) and incorporated the forces of Love and Strife into his cosmology. While Empedocles' view on Love and Strife was more intricate, involving both mixing and separating, Anaxagoras focused on the dynamic motion of ingredients to form the diverse material world we observe. Furthermore, Empedocles' philosophical musings intertwined with mysticism, religion, and medicine, placing him at the crossroads of myth and reason, while Anaxagoras paved the way for a scientific understanding of the universe through his intellectual pursuits.[507, 157, 159, 160, 266, 179, 509, 169, 206, 158]\n"
     ]
    }
   ],
   "source": [
    "result, idx_list, doc_names, chunks = generate_with_corpus(\n",
    "    generator,\n",
    "    \"Contrast the lives of Anaxagoras and Empedocles.\",\n",
    "    10,\n",
    "    0.7\n",
    ");\n",
    "\n",
    "println(result, idx_list)"
   ]
  },
  {
   "cell_type": "markdown",
   "id": "2e5e3106-d025-49f4-9e00-f1e4a8d3cf21",
   "metadata": {},
   "source": [
    "We can also load a *new* generator from the `greek_philosophers` artifacts and query *that*."
   ]
  },
  {
   "cell_type": "code",
   "execution_count": 2,
   "id": "90e22e2c-d913-441a-85bd-71083b9318cc",
   "metadata": {},
   "outputs": [],
   "source": [
    "generator = load_OAIGeneratorWithCorpus(\"scifi\");"
   ]
  },
  {
   "cell_type": "code",
   "execution_count": 4,
   "id": "0bef54c4-9e30-47ae-abab-a8f736654acd",
   "metadata": {},
   "outputs": [
    {
     "data": {
      "text/plain": [
       "66"
      ]
     },
     "execution_count": 4,
     "metadata": {},
     "output_type": "execute_result"
    }
   ],
   "source": [
    "generator.corpus.next_idx"
   ]
  },
  {
   "cell_type": "code",
   "execution_count": null,
   "id": "378dc4a0-a872-421e-9d43-b083f1c4ff09",
   "metadata": {},
   "outputs": [],
   "source": []
  }
 ],
 "metadata": {
  "kernelspec": {
   "display_name": "Julia 1.10.0",
   "language": "julia",
   "name": "julia-1.10"
  },
  "language_info": {
   "file_extension": ".jl",
   "mimetype": "application/julia",
   "name": "julia",
   "version": "1.10.0"
  }
 },
 "nbformat": 4,
 "nbformat_minor": 5
}
