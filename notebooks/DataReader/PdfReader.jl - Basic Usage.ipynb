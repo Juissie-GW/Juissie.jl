{
 "cells": [
  {
   "cell_type": "code",
   "execution_count": 9,
   "metadata": {},
   "outputs": [
    {
     "name": "stderr",
     "output_type": "stream",
     "text": [
      "\u001b[32m\u001b[1m   Resolving\u001b[22m\u001b[39m package versions...\n"
     ]
    },
    {
     "name": "stderr",
     "output_type": "stream",
     "text": [
      "\u001b[32m\u001b[1m  No Changes\u001b[22m\u001b[39m to `~/Projects/School/SoftwareParadigms/csci_6221/Project.toml`\n",
      "\u001b[32m\u001b[1m  No Changes\u001b[22m\u001b[39m to `~/Projects/School/SoftwareParadigms/csci_6221/Manifest.toml`\n"
     ]
    },
    {
     "name": "stderr",
     "output_type": "stream",
     "text": [
      "\u001b[32m\u001b[1mPrecompiling\u001b[22m\u001b[39m project...\n"
     ]
    },
    {
     "name": "stderr",
     "output_type": "stream",
     "text": [
      "\u001b[32m  ✓ \u001b[39mJuissie\n",
      "  1 dependency successfully precompiled in 4 seconds. 201 already precompiled.\n",
      "WARNING: replacing module PdfReader.\n"
     ]
    },
    {
     "data": {
      "text/plain": [
       "\"../TestData/washington-inaugural-address.pdf\""
      ]
     },
     "metadata": {},
     "output_type": "display_data"
    }
   ],
   "source": [
    "import Pkg\n",
    "Pkg.add(\"PDFIO\")\n",
    "\n",
    "include(\"../../src/SemanticSearch/DataReader/PdfReader.jl\")\n",
    "\n",
    "pdfFilePath::String = \"../TestData/washington-inaugural-address.pdf\""
   ]
  },
  {
   "cell_type": "markdown",
   "metadata": {},
   "source": [
    "# Pdf Reader Module\n",
    "\n",
    "This module is a useful wrapper for the PDFIO library https://github.com/sambitdash/PDFIO.jl?tab=readme-ov-file\n",
    "\n",
    "The PdfReader module allows a developer to quickly open and access the text data inside a pdf for upserting into a Corpus.\n",
    "\n",
    "### Third Party License - PDFIO \n",
    "PDFIO: https://github.com/sambitdash/PDFIO.jl?tab=readme-ov-file\n",
    "\n",
    "License for the PDFIO may be found here: https://github.com/sambitdash/PDFIO.jl?tab=License-1-ov-file#pdfio-license"
   ]
  },
  {
   "cell_type": "markdown",
   "metadata": {},
   "source": [
    "### PdfReader.getAllTextInPDF\n",
    "\n",
    "This function opens a target file, and returns a Vector of Strings. Each entry in this result represents 100 pages worth of text data from the source PDF. The content of the resultant vector are in order, IE the first entry is the first 100 pages, the next is pages 201-300 etc.."
   ]
  },
  {
   "cell_type": "code",
   "execution_count": 10,
   "metadata": {},
   "outputs": [
    {
     "name": "stdout",
     "output_type": "stream",
     "text": [
      "Working on page: 1 out of 3\n",
      "Working on page: 2 out of 3\n"
     ]
    },
    {
     "name": "stdout",
     "output_type": "stream",
     "text": [
      "Working on page: 3 out of 3\n"
     ]
    },
    {
     "data": {
      "text/plain": [
       "1-element Vector{String}:\n",
       " \"       President George Washin\"\u001b[93m\u001b[1m ⋯ 10308 bytes ⋯ \u001b[22m\u001b[39m\"pend. \\n\\n          \\n          \""
      ]
     },
     "metadata": {},
     "output_type": "display_data"
    }
   ],
   "source": [
    "PdfReader.getAllTextInPDF(pdfFilePath)"
   ]
  },
  {
   "cell_type": "markdown",
   "metadata": {},
   "source": [
    "### PdfReader.getAllTextInPDF_byPage\n",
    "\n",
    "This function opens a target file, and returns a Vector of Strings. Each entry in this result represents 1 single page worth of text data from the source PDF. The contents of the resultant vector are in correct page order. "
   ]
  },
  {
   "cell_type": "code",
   "execution_count": 11,
   "metadata": {},
   "outputs": [
    {
     "name": "stdout",
     "output_type": "stream",
     "text": [
      "Working on page: 1 out of 3\n",
      "Working on page: 2 out of 3\n",
      "Working on page: 3 out of 3\n"
     ]
    },
    {
     "data": {
      "text/plain": [
       "4-element Vector{String}:\n",
       " \"       President George Washin\"\u001b[93m\u001b[1m ⋯ 3945 bytes ⋯ \u001b[22m\u001b[39m\"ich they have advanced to the \"\n",
       " \"         character of an indep\"\u001b[93m\u001b[1m ⋯ 4481 bytes ⋯ \u001b[22m\u001b[39m\"    advantageously promoted.  \"\n",
       " \"          \\n         To the for\"\u001b[93m\u001b[1m ⋯ 1761 bytes ⋯ \u001b[22m\u001b[39m\"epend. \\n\\n          \\n          \"\n",
       " \"\""
      ]
     },
     "metadata": {},
     "output_type": "display_data"
    }
   ],
   "source": [
    "\n",
    "PdfReader.getAllTextInPDF_byPage(pdfFilePath)"
   ]
  },
  {
   "cell_type": "markdown",
   "metadata": {},
   "source": [
    "In order to use this library with the Backend.jl module see this example: "
   ]
  },
  {
   "cell_type": "code",
   "execution_count": 15,
   "metadata": {},
   "outputs": [
    {
     "name": "stderr",
     "output_type": "stream",
     "text": [
      "WARNING: replacing module Juissie.\n"
     ]
    },
    {
     "name": "stdout",
     "output_type": "stream",
     "text": [
      "Working on page: 1 out of 3\n",
      "Working on page: 2 out of 3\n",
      "Working on page: 3 out of 3\n"
     ]
    },
    {
     "name": "stdout",
     "output_type": "stream",
     "text": [
      "By the article establishing the executive department it is made the duty of the President \"to \n",
      "         recommend to your consideration such measures as he shall judge necessary and expedient.\" The \n",
      "         circumstances under which I now meet you will acquit me from entering into that subject further \n",
      "         than to refer to the great constitutional charter under which you are assembled, and which, in \n",
      "         defining your powers, designates the objects to which your attention is to be given. It will be \n",
      "         more consistent with those circumstances, and far more congenial with the feelings which \n",
      "         actuate me, to substitute, in place of a recommendation of particular measures, the tribute that is \n",
      "         due to the talents, the rectitude, and the patriotism which adorn the characters selected to devise \n",
      "         and adopt them. In these honorable qualifications I behold the surest pledges that as on one side \n",
      "         no local prejudices or attachments, no separate views nor party animosities, will misdirect the \n",
      "         comprehensive and equal eye which ought to watch over this great assemblage of communities \n",
      "         and interests, so, on another, that the foundation of our national policy will be laid in the pure \n",
      "         and immutable principles of private morality, and the preeminence of free government be \n",
      "         exemplified by all the attributes which can win the affections of its citizens and command the \n",
      "         respect of the world. I dwell on this prospect with every satisfaction which an ardent love for my \n",
      "         country can inspire, since there is no truth more thoroughly established than that there exists in \n",
      "         the economy and course of nature an indissoluble union between virtue and happiness; between \n",
      "         duty and advantage; between the genuine maxims of an honest and magnanimous policy and the \n",
      "         solid rewards of public prosperity and felicity; since we ought to be no less persuaded that the \n",
      "         propitious smiles of Heaven can never be expected on a nation that disregards the eternal rules of \n",
      "         order and right which Heaven itself has ordained; and since the preservation of the sacred fire of \n",
      "         liberty and the destiny of the republican model of government are justly considered, perhaps, as \n",
      "         deeply, as finally, staked on the experiment entrusted to the hands of the American people.\n",
      "All I dare hope is that if, in \n",
      "       executing this task, I have been too much swayed by a grateful remembrance of former \n",
      "       instances, or by an affectionate sensibility to this transcendent proof of the confidence of my \n",
      "       fellow-citizens, and have thence too little consulted my incapacity as well as disinclination for \n",
      "       the weighty and untried cares before me, my error will be palliated by the motives which mislead \n",
      "       me, and its consequences be judged by my country with some share of the partiality in which \n",
      "       they originated. Such being the impressions under which I have, in obedience to the public summons, repaired to \n",
      "       the present station, it would be peculiarly improper to omit in this first official act my fervent \n",
      "       supplications to that Almighty Being who rules over the universe, who presides in the councils of \n",
      "       nations, and whose providential aids can supply every human defect, that His benediction may \n",
      "       consecrate to the liberties and happiness of the people of the United States a Government \n",
      "       instituted by themselves for these essential purposes, and may enable every instrument employed \n",
      "       in its administration to execute with success the functions allotted to his charge. In tendering this \n",
      "       homage to the Great Author of every public and private good, I assure myself that it expresses \n",
      "       your sentiments not less than my own, nor those of my fellow- citizens at large less than either. No people can be bound to acknowledge and adore the Invisible Hand which conducts the affairs \n",
      "       of men more than those of the United States. Every step by which they have advanced to the          character of an independent nation seems to have been distinguished by some token of \n",
      "         providential agency; and in the important revolution just accomplished in the system of their \n",
      "         united government the tranquil deliberations and voluntary consent of so many distinct \n",
      "         communities from which the event has resulted can not be compared with the means by which \n",
      "         most governments have been established without some return of pious gratitude, along with an \n",
      "         humble anticipation of the future blessings which the past seem to presage. These reflections, \n",
      "         arising out of the present crisis, have forced themselves too strongly on my mind to be \n",
      "         suppressed. You will join with me, I trust, in thinking that there are none under the influence of \n",
      "         which the proceedings of a new and free government can more auspiciously commence.\n",
      "Having thus imparted to you my sentiments as they have been awakened by the occasion which \n",
      "         brings us together, I shall take my present leave; but not without resorting once more to the \n",
      "         benign Parent of the Human Race in humble supplication that, since He has been pleased to \n",
      "         favor the American people with opportunities for deliberating in perfect tranquillity, and \n",
      "         dispositions for deciding with unparalleled unanimity on a form of government for the security \n",
      "         of their union and the advancement of their happiness, so His divine blessing may be equally \n",
      "         conspicuous in the enlarged views, the temperate consultations, and the wise measures on which \n",
      "         the success of this Government must depend.\n"
     ]
    }
   ],
   "source": [
    "include(\"../../src/Juissie.jl\")\n",
    "\n",
    "corpus = Juissie.Corpus(\"test2\")\n",
    "Juissie.upsert_pdf_document(corpus, \n",
    "                            pdfFilePath, \n",
    "                            \"George Washington Inaugral Address 1789\")\n",
    "\n",
    "idx_list, doc_names, chunks, distances = Juissie.search(\n",
    "    corpus, \n",
    "    \"being called to serve one's country\", \n",
    "    3\n",
    ")\n",
    "\n",
    "println(chunks[1])\n",
    "println(chunks[2])\n",
    "println(chunks[3])"
   ]
  }
 ],
 "metadata": {
  "kernelspec": {
   "display_name": "Julia 1.10.0",
   "language": "julia",
   "name": "julia-1.10"
  },
  "language_info": {
   "file_extension": ".jl",
   "mimetype": "application/julia",
   "name": "julia",
   "version": "1.10.0"
  }
 },
 "nbformat": 4,
 "nbformat_minor": 2
}
