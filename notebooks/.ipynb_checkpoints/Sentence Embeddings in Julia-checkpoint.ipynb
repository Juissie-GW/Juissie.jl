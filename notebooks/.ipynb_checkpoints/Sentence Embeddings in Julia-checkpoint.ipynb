{
 "cells": [
  {
   "cell_type": "code",
   "execution_count": 1,
   "id": "fd327f6e-9bb5-4dae-ae11-d98531d2c0fd",
   "metadata": {},
   "outputs": [
    {
     "name": "stderr",
     "output_type": "stream",
     "text": [
      "\u001b[32m\u001b[1m    Updating\u001b[22m\u001b[39m registry at `~/.julia/registries/General.toml`\n",
      "\u001b[32m\u001b[1m   Resolving\u001b[22m\u001b[39m package versions...\n",
      "\u001b[32m\u001b[1m  No Changes\u001b[22m\u001b[39m to `~/.julia/environments/v1.10/Project.toml`\n",
      "\u001b[32m\u001b[1m  No Changes\u001b[22m\u001b[39m to `~/.julia/environments/v1.10/Manifest.toml`\n"
     ]
    }
   ],
   "source": [
    "]add Transformers"
   ]
  },
  {
   "cell_type": "markdown",
   "id": "e2abacec-3e09-4db2-86dd-48f088fcd307",
   "metadata": {},
   "source": [
    "Load the model"
   ]
  },
  {
   "cell_type": "code",
   "execution_count": 5,
   "id": "74f90fb6-79bc-4f0e-b309-52f9beac0b24",
   "metadata": {
    "scrolled": true
   },
   "outputs": [
    {
     "data": {
      "text/plain": [
       "\"This is sample text for testing\""
      ]
     },
     "execution_count": 5,
     "metadata": {},
     "output_type": "execute_result"
    }
   ],
   "source": [
    "using Transformers\n",
    "using Transformers.TextEncoders\n",
    "using Transformers.HuggingFace\n",
    "\n",
    "tokenizer, model = hgf\"BAAI/bge-small-en-v1.5\"\n",
    "text = \"This is sample text for testing\""
   ]
  },
  {
   "cell_type": "markdown",
   "id": "801abeed-9f38-4283-80d2-4d91bc30f738",
   "metadata": {},
   "source": [
    "Tokenize the text and pass them through the model"
   ]
  },
  {
   "cell_type": "code",
   "execution_count": 7,
   "id": "2e0a70c6-bde7-4fd6-99dd-d2e2af790965",
   "metadata": {},
   "outputs": [
    {
     "data": {
      "text/plain": [
       "(hidden_state = Float32[-0.57635784 -0.988371 … -0.6678926 -0.5763682; 0.18678798 0.029588556 … 0.42406118 0.186788; … ; 0.5349333 0.90205693 … 0.6209216 0.53496724; 0.10782507 0.71395916 … 0.119694084 0.10780155;;;], attention_mask = NeuralAttentionlib.LengthMask{1, Vector{Int32}}(Int32[8]), pooled = Float32[0.0086816605; -0.030936975; … ; -0.13375093; -0.06889264;;])"
      ]
     },
     "execution_count": 7,
     "metadata": {},
     "output_type": "execute_result"
    }
   ],
   "source": [
    "encoded_input = encode(tokenizer, text)\n",
    "model_output = model(encoded_input)"
   ]
  },
  {
   "cell_type": "markdown",
   "id": "fe381826-a62a-4561-ad65-e2c8ccee4d71",
   "metadata": {},
   "source": [
    "This is to check that the tokenization looks right. The CLS token is the embedding we want to extract for Bert models like this one"
   ]
  },
  {
   "cell_type": "code",
   "execution_count": 52,
   "id": "047d683e-2083-4c07-90f9-2edaa39d6d54",
   "metadata": {},
   "outputs": [
    {
     "data": {
      "text/plain": [
       "8-element Vector{String}:\n",
       " \"[CLS]\"\n",
       " \"this\"\n",
       " \"is\"\n",
       " \"sample\"\n",
       " \"text\"\n",
       " \"for\"\n",
       " \"testing\"\n",
       " \"[SEP]\""
      ]
     },
     "execution_count": 52,
     "metadata": {},
     "output_type": "execute_result"
    }
   ],
   "source": [
    "reshape(decode(textencoder, encoded_input.token), :)"
   ]
  },
  {
   "cell_type": "markdown",
   "id": "02dbd1eb-4567-452c-854c-4597585bfb36",
   "metadata": {},
   "source": [
    "We are extracting the hidden state associated with the [CLS] token. They appear to closely match the embeddings extracted in the Python notebook."
   ]
  },
  {
   "cell_type": "code",
   "execution_count": 8,
   "id": "6d7bb2ae-f939-4e32-a388-08fbdf1b8039",
   "metadata": {},
   "outputs": [
    {
     "data": {
      "text/plain": [
       "384×1 Matrix{Float32}:\n",
       " -0.57635784\n",
       "  0.18678798\n",
       " -0.053618602\n",
       " -0.22763227\n",
       "  0.14511454\n",
       "  0.16490652\n",
       " -0.048275385\n",
       "  0.54762447\n",
       "  0.08160435\n",
       " -0.15042514\n",
       " -0.3084828\n",
       " -0.24631864\n",
       " -0.23914053\n",
       "  ⋮\n",
       "  0.0075891674\n",
       "  0.5553003\n",
       "  0.31741434\n",
       " -0.1665802\n",
       " -0.25601503\n",
       "  0.21490689\n",
       " -0.20849703\n",
       " -0.08808173\n",
       " -0.065055415\n",
       "  0.8421492\n",
       "  0.5349333\n",
       "  0.10782507"
      ]
     },
     "execution_count": 8,
     "metadata": {},
     "output_type": "execute_result"
    }
   ],
   "source": [
    "model_output.hidden_state[:,1,:]"
   ]
  },
  {
   "cell_type": "code",
   "execution_count": null,
   "id": "da811a06-3d17-4718-bebb-ffa4e7276e71",
   "metadata": {},
   "outputs": [],
   "source": []
  }
 ],
 "metadata": {
  "kernelspec": {
   "display_name": "Julia 1.10.0",
   "language": "julia",
   "name": "julia-1.10"
  },
  "language_info": {
   "file_extension": ".jl",
   "mimetype": "application/julia",
   "name": "julia",
   "version": "1.10.0"
  }
 },
 "nbformat": 4,
 "nbformat_minor": 5
}
