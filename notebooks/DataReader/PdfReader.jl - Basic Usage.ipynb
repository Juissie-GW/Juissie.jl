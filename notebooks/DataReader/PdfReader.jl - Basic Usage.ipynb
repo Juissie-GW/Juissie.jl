{
 "cells": [
  {
   "cell_type": "code",
   "execution_count": 21,
   "metadata": {},
   "outputs": [
    {
     "name": "stderr",
     "output_type": "stream",
     "text": [
      "WARNING: replacing module PdfReader.\n"
     ]
    },
    {
     "data": {
      "text/plain": [
       "\"../TestData/washington-inaugural-address.pdf\""
      ]
     },
     "metadata": {},
     "output_type": "display_data"
    }
   ],
   "source": [
    "include(\"../../src/SemanticSearch/DataReader/PdfReader.jl\")\n",
    "\n",
    "pdfFilePath::String = \"../TestData/washington-inaugural-address.pdf\""
   ]
  },
  {
   "cell_type": "markdown",
   "metadata": {},
   "source": [
    "# Pdf Reader Module\n",
    "\n",
    "This module is a useful wrapper for the PDFIO library https://github.com/sambitdash/PDFIO.jl?tab=readme-ov-file\n",
    "\n",
    "The PdfReader module allows a developer to quickly open and access the text data inside a pdf for upserting into a Corpus.\n",
    "\n",
    "### Third Party License - PDFIO \n",
    "PDFIO: https://github.com/sambitdash/PDFIO.jl?tab=readme-ov-file\n",
    "\n",
    "License for the PDFIO may be found here: https://github.com/sambitdash/PDFIO.jl?tab=License-1-ov-file#pdfio-license"
   ]
  },
  {
   "cell_type": "markdown",
   "metadata": {},
   "source": [
    "### PdfReader.getAllTextInPDF\n",
    "\n",
    "This function opens a target file, and returns a Vector of Strings. Each entry in this result represents 100 pages worth of text data from the source PDF. The content of the resultant vector are in order, IE the first entry is the first 100 pages, the next is pages 201-300 etc.."
   ]
  },
  {
   "cell_type": "code",
   "execution_count": 22,
   "metadata": {},
   "outputs": [
    {
     "name": "stdout",
     "output_type": "stream",
     "text": [
      "Working on page: 1 out of 3\n",
      "Working on page: 2 out of 3\n"
     ]
    },
    {
     "name": "stdout",
     "output_type": "stream",
     "text": [
      "Working on page: 3 out of 3\n"
     ]
    },
    {
     "data": {
      "text/plain": [
       "1-element Vector{String}:\n",
       " \"       President George Washin\"\u001b[93m\u001b[1m ⋯ 10308 bytes ⋯ \u001b[22m\u001b[39m\"pend. \\n\\n          \\n          \""
      ]
     },
     "metadata": {},
     "output_type": "display_data"
    }
   ],
   "source": [
    "PdfReader.getAllTextInPDF(pdfFilePath)"
   ]
  },
  {
   "cell_type": "markdown",
   "metadata": {},
   "source": [
    "### PdfReader.getAllTextInPDF_byPage\n",
    "\n",
    "This function opens a target file, and returns a Vector of Strings. Each entry in this result represents 1 single page worth of text data from the source PDF. The contents of the resultant vector are in correct page order. "
   ]
  },
  {
   "cell_type": "code",
   "execution_count": 23,
   "metadata": {},
   "outputs": [
    {
     "name": "stdout",
     "output_type": "stream",
     "text": [
      "Working on page: 1 out of 3\n",
      "Working on page: 2 out of 3\n",
      "Working on page: 3 out of 3\n"
     ]
    },
    {
     "data": {
      "text/plain": [
       "4-element Vector{String}:\n",
       " \"       President George Washin\"\u001b[93m\u001b[1m ⋯ 3945 bytes ⋯ \u001b[22m\u001b[39m\"ich they have advanced to the \"\n",
       " \"         character of an indep\"\u001b[93m\u001b[1m ⋯ 4481 bytes ⋯ \u001b[22m\u001b[39m\"    advantageously promoted.  \"\n",
       " \"          \\n         To the for\"\u001b[93m\u001b[1m ⋯ 1761 bytes ⋯ \u001b[22m\u001b[39m\"epend. \\n\\n          \\n          \"\n",
       " \"\""
      ]
     },
     "metadata": {},
     "output_type": "display_data"
    }
   ],
   "source": [
    "\n",
    "PdfReader.getAllTextInPDF_byPage(pdfFilePath)"
   ]
  },
  {
   "cell_type": "markdown",
   "metadata": {},
   "source": [
    "In order to use this library with the Backend.jl module see this example: "
   ]
  },
  {
   "cell_type": "code",
   "execution_count": 24,
   "metadata": {},
   "outputs": [
    {
     "name": "stderr",
     "output_type": "stream",
     "text": [
      "WARNING: replacing module Juissie.\n"
     ]
    },
    {
     "name": "stderr",
     "output_type": "stream",
     "text": [
      "┌ Warning: A corpus by this name already exists. Do you want to proceed? Doing so will overwrite the existing corpus artifacts. [y/n]\n",
      "└ @ Main.Juissie.SemanticSearch.Backend /Users/nocab/Projects/School/SoftwareParadigms/csci_6221/src/SemanticSearch/Backend.jl:103\n"
     ]
    },
    {
     "ename": "UndefVarError",
     "evalue": "UndefVarError: `execute_msg` not defined",
     "output_type": "error",
     "traceback": [
      "UndefVarError: `execute_msg` not defined\n",
      "\n",
      "Stacktrace:\n",
      " [1] readprompt(prompt::String; password::Bool)\n",
      "   @ VSCodeServer.IJuliaCore ~/.vscode/extensions/julialang.language-julia-1.73.2/scripts/packages/IJuliaCore/src/stdio.jl:190\n",
      " [2] readprompt\n",
      "   @ ~/.vscode/extensions/julialang.language-julia-1.73.2/scripts/packages/IJuliaCore/src/stdio.jl:188 [inlined]\n",
      " [3] readline(io::VSCodeServer.IJuliaCore.IJuliaStdio{Base.PipeEndpoint, typeof(VSCodeServer.io_send_callback)})\n",
      "   @ VSCodeServer.IJuliaCore ~/.vscode/extensions/julialang.language-julia-1.73.2/scripts/packages/IJuliaCore/src/stdio.jl:232\n",
      " [4] readline()\n",
      "   @ Base ./io.jl:560\n",
      " [5] Main.Juissie.SemanticSearch.Backend.Corpus(corpus_name::String, embedder_model_path::String, max_seq_len::Int64)\n",
      "   @ Main.Juissie.SemanticSearch.Backend ~/Projects/School/SoftwareParadigms/csci_6221/src/SemanticSearch/Backend.jl:104\n",
      " [6] Main.Juissie.SemanticSearch.Backend.Corpus(corpus_name::String)\n",
      "   @ Main.Juissie.SemanticSearch.Backend ~/Projects/School/SoftwareParadigms/csci_6221/src/SemanticSearch/Backend.jl:94\n",
      " [7] top-level scope\n",
      "   @ ~/Projects/School/SoftwareParadigms/csci_6221/notebooks/DataReader/PdfReader.jl - Basic Usage.ipynb:3"
     ]
    }
   ],
   "source": [
    "include(\"../../src/Juissie.jl\")\n",
    "\n",
    "corpus = Juissie.Corpus(\"test2\")\n",
    "Juissie.upsert_pdf_document(corpus, \n",
    "                            pdfFilePath, \n",
    "                            \"George Washington Inaugral Address 1789\")\n",
    "\n",
    "idx_list, doc_names, chunks, distances = Juissie.search(\n",
    "    corpus, \n",
    "    \"being called to serve one's country\", \n",
    "    3\n",
    ")\n",
    "\n",
    "println(chunks[1])\n",
    "println(chunks[2])\n",
    "println(chunks[3])"
   ]
  }
 ],
 "metadata": {
  "kernelspec": {
   "display_name": "Julia 1.10.0",
   "language": "julia",
   "name": "julia-1.10"
  },
  "language_info": {
   "file_extension": ".jl",
   "mimetype": "application/julia",
   "name": "julia",
   "version": "1.10.0"
  }
 },
 "nbformat": 4,
 "nbformat_minor": 2
}
