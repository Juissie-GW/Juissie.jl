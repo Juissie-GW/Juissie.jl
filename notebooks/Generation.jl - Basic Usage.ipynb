{
 "cells": [
  {
   "cell_type": "code",
   "execution_count": 1,
   "id": "c680e925-c250-45a2-a590-8c3f78ec727f",
   "metadata": {},
   "outputs": [],
   "source": [
    "include(\"../src/Juissie.jl\")\n",
    "using .Juissie"
   ]
  },
  {
   "cell_type": "markdown",
   "id": "6ab3bd96-b67c-49bd-b4bd-bdaff8e11f4a",
   "metadata": {},
   "source": [
    "### Initializing a Generator\n",
    "Generators are how we will generate text for a given query (and contextual information from our vector DB).\n",
    "\n",
    "Here, we'll initialize an `OAIGenerator`, which calls OpenAI's\n",
    "gpt-3.5-turbo completion endpoint. If you have an OpenAI API key you can do one of two things:\n",
    "1. Pass it directely to `OAIGenerator`, e.g. `generator = OAIGenerator(\"YOUR_KEY_HERE\")`. If you do this, though, make sure you don't accidentally commit your key!\n",
    "2. Leave the `auth_token` argument as `nothing`. When you do this, `OAIGenerator` will look in your environmental variables for a key called \"OAI_KEY\".\n",
    "\n",
    "We'll be doing the second option:"
   ]
  },
  {
   "cell_type": "code",
   "execution_count": 4,
   "id": "6dc5c5dd-f087-4437-a4f9-17446d291488",
   "metadata": {},
   "outputs": [
    {
     "data": {
      "text/plain": [
       "\"9, 18, 27, 36, 45, 54, 63, 72, 81, 90, 99\""
      ]
     },
     "execution_count": 4,
     "metadata": {},
     "output_type": "execute_result"
    }
   ],
   "source": [
    "generator = OAIGenerator()\n",
    "\n",
    "result = generate(\n",
    "    generator,\n",
    "    \"Count to 100 by increments of x\", # this is the main query, i.e. your question\n",
    "    [\"x=9\"] # this is the context we will provide (chunks from the vector db)\n",
    ")"
   ]
  },
  {
   "cell_type": "code",
   "execution_count": null,
   "id": "f25d4e84-a752-4ed9-aacd-b0f0ff589ac6",
   "metadata": {},
   "outputs": [],
   "source": []
  }
 ],
 "metadata": {
  "kernelspec": {
   "display_name": "Julia 1.10.0",
   "language": "julia",
   "name": "julia-1.10"
  },
  "language_info": {
   "file_extension": ".jl",
   "mimetype": "application/julia",
   "name": "julia",
   "version": "1.10.0"
  }
 },
 "nbformat": 4,
 "nbformat_minor": 5
}
