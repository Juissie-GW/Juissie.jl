{
 "cells": [
  {
   "cell_type": "markdown",
   "id": "3ff78464-6247-4b13-a4dd-ed86a52d5f84",
   "metadata": {},
   "source": [
    "## An Inside-Out Walkthrough of the `Juissie.jl` Package\n",
    "Juissie is a Julia-native semantic query engine. This tutorial covers its three primary modules:\n",
    "- `Embedding.jl`\n",
    "- `Backend.jl`\n",
    "- `Generation.jl`\n",
    "\n",
    "To begin, we just need to find where the file `Juissie.jl` is relative to our working directly, and import the module:"
   ]
  },
  {
   "cell_type": "code",
   "execution_count": 1,
   "id": "cf0b1267-e67c-4aac-ae73-53ec329bf3ed",
   "metadata": {},
   "outputs": [],
   "source": [
    "include(\"../src/Juissie.jl\")\n",
    "using .Juissie"
   ]
  },
  {
   "cell_type": "markdown",
   "id": "9a376428-e3df-4b73-b996-712fc018c4e6",
   "metadata": {},
   "source": [
    "## Embedding.jl"
   ]
  },
  {
   "cell_type": "markdown",
   "id": "c455d4af-46d7-4b45-8fa8-368bfa57c003",
   "metadata": {},
   "source": [
    "The Embedding package contains the `Embedder` struct and some support functions for it. An `Embedder` is simply a wrapper for the embedding model and the tokenizer associated with that model.\n",
    "\n",
    "The embedding model will take a human readable string, and convert it into a neural network representation of that string. Effectively, this neural network representation is the output of the hidden state of the embedding model, more concretely a matrix of floats. With a sufficiently trained embedding model, two \"semantically similar\" strings will have similar embedding values. Or in other words, the distance between two embeddings in N-Dimensional space will be relatively small. \n",
    "\n",
    "For a simple example, the string \"Dog\" and \"Hound\" would probably have proximal embedding values, while the string \"Dog\" and \"business card\" would have more distant embedding values. \n",
    "\n",
    "### Initialize the Embedder struct\n",
    "\n",
    "The `Embedder` struct takes a hugging face model name. This model will be downloaded from hugging face, and initialized via the `HuggingFace` external package. This will provide the `model` and it's associated `tokenizer` which are both saved into the `Embedder`. "
   ]
  },
  {
   "cell_type": "code",
   "execution_count": 2,
   "id": "e8706bab-5842-4691-9dc1-1241a9d31f7a",
   "metadata": {},
   "outputs": [],
   "source": [
    "embedder = Embedder(\"BAAI/bge-small-en-v1.5\");"
   ]
  },
  {
   "cell_type": "markdown",
   "id": "ec29c50a-a8ac-405e-9fdf-ff2b1783c781",
   "metadata": {},
   "source": [
    "### Generate embedding for a provided text\n",
    "\n",
    "To convert a human readable text into a model's embedding, simply use the `embed(...)` function. "
   ]
  },
  {
   "cell_type": "code",
   "execution_count": 3,
   "id": "b3dee332-ea24-4592-8c89-fc7e86ab2e92",
   "metadata": {},
   "outputs": [
    {
     "name": "stdout",
     "output_type": "stream",
     "text": [
      "0.7871117\n",
      "0.5119946\n"
     ]
    }
   ],
   "source": [
    "text = \"This is sample text for testing\"\n",
    "embedding = embed(embedder, text)\n",
    "\n",
    "embedding_dog = embed(embedder, \"dog\")\n",
    "embedding_hound = embed(embedder, \"hound\")\n",
    "embedding_other = embed(embedder, \"busines card\")\n",
    "\n",
    "# calculate the cosine similarity\n",
    "dog_to_hound = cosine_similarity(embedding_dog, embedding_hound)\n",
    "dog_to_other = cosine_similarity(embedding_dog, embedding_other)\n",
    "\n",
    "# higher is better\n",
    "println(dog_to_hound)  # 0.7871117\n",
    "println(dog_to_other)  # 0.5119946"
   ]
  },
  {
   "cell_type": "markdown",
   "id": "cf7b8739-a063-4fd3-95c8-b25fdb1db018",
   "metadata": {},
   "source": [
    "## Backend.jl"
   ]
  },
  {
   "cell_type": "markdown",
   "id": "8538914d-a621-48e0-a2de-151151fc1b98",
   "metadata": {},
   "source": [
    "Backend.jl is a simple Julia-native vector database. The general idea is that we need a way to do the following:\n",
    "1. Store textual metadata, such as document names, section/chunk text, etc.\n",
    "2. Store vector embeddings\n",
    "3. Search vector embeddings\n",
    "4. Retrieval textual metadata from our vector search\n",
    "\n",
    "This ends up being a bit convoluted because the system best for 1 and 4 is not necessarily good at 2 or 3.\n",
    "\n",
    "We resolve this by creating a `Corpus` struct, which combines a fast vector index (Hierarchical Navigable Small World) with a traditional relational database (SQLite). The `Corpus` handles items 2 and 3 and the relational database handles 1 and 4. The details are abstracted away via the `Corpus`' `upsert` and `search` methods."
   ]
  },
  {
   "cell_type": "markdown",
   "id": "89bc9413-3b7a-433b-9716-b3b16e2c89d6",
   "metadata": {},
   "source": [
    "#### Corpus\n",
    "\n",
    "Instantiating a `Corpus` in-memory (e.g. don't save the associated database to disk) is straightforward.:"
   ]
  },
  {
   "cell_type": "code",
   "execution_count": 15,
   "id": "718597c4-0ff6-43ff-b0ed-d08e9cf18e67",
   "metadata": {},
   "outputs": [],
   "source": [
    "local_corpus = Corpus();"
   ]
  },
  {
   "cell_type": "markdown",
   "id": "e1ab5c72-1c0c-4972-85e9-cd7c4a4cc20d",
   "metadata": {},
   "source": [
    "Alternately, we can provide a `corpus_name`, which will save its artifacts to disk. The name of the saved artifact (which may be loaded later) will be `<corpus_name>.db` and `<corpus_name>.json`. A corpus may be loaded from disk via the `load_corpus(corpus_name::String)` function. See the Loading Existing Corpora section below for more details."
   ]
  },
  {
   "cell_type": "markdown",
   "id": "22a45a2f-f1a0-4d70-9759-755ed07d6763",
   "metadata": {},
   "source": [
    "#### upsert\n",
    "\n",
    "Initially, a new `Corpus` is empty (`Corpus` objects loaded from disk may have data from previous usage already). We can add small chunks of text to the `Corpus` via the `upsert(...)` function. \n",
    "\n",
    "The `upsert(...)` function takes the corpus to modify, the data to add, and the name of the \"document\" the data comes from. In the following case, We are adding 4 pieces of data from two different documents, `doc1` and `doc2`. The document name help keep the data organized, and allows for us to query, update and change the data in the future:"
   ]
  },
  {
   "cell_type": "code",
   "execution_count": 16,
   "id": "7c05cdb2-0fdc-4573-8282-78027610f7bf",
   "metadata": {},
   "outputs": [],
   "source": [
    "upsert_chunk(local_corpus, \"Hold me closer, tiny dancer.\", \"doc1\");\n",
    "upsert_chunk(local_corpus, \"Count the headlights on the highway.\", \"doc1\");\n",
    "upsert_chunk(local_corpus, \"Lay me down in sheets of linen.\", \"doc2\");\n",
    "upsert_chunk(local_corpus, \"Peter Piper picked a peck of pickled peppers. A peck of pickled peppers, Peter Piper picked.\", \"doc2\");"
   ]
  },
  {
   "cell_type": "markdown",
   "id": "e3131158-e5eb-4637-a695-0a1c0d9ab4f3",
   "metadata": {},
   "source": [
    "#### Search\n",
    "\n",
    "Once data has been upserted (or added) to the `Corpus`, we can then `search` it find previously `upsert`ed chunks that are close or match the provided search target. In the example below, we are searching the `Corpus` for the 2 data chunks that are closest to the search target string `\"tiny dancer\"`:"
   ]
  },
  {
   "cell_type": "code",
   "execution_count": 17,
   "id": "b6d3b65e-8f53-4c33-bc22-44ee368dc0aa",
   "metadata": {},
   "outputs": [
    {
     "data": {
      "text/plain": [
       "([1, 3], [\"doc1\", \"doc2\"], [\"Hold me closer, tiny dancer.\", \"Lay me down in sheets of linen.\"], Vector{Float32}[[5.198073, 9.5337925]])"
      ]
     },
     "execution_count": 17,
     "metadata": {},
     "output_type": "execute_result"
    }
   ],
   "source": [
    "idx_list, doc_names, chunks, distances = search(\n",
    "    local_corpus, \n",
    "    \"tiny dancer\", \n",
    "    2\n",
    ")"
   ]
  },
  {
   "cell_type": "markdown",
   "id": "3c4c7601-44f2-49ce-a36c-a3c5224edf5b",
   "metadata": {},
   "source": [
    "The results from the search function are in-order, so the first returned item is the closest match, the next item is the next closest and so on. \n",
    "\n",
    "As expected, the chunk closest to our search query `\"tiny dancer\"` is the one that says `\"Hold me closer, tiny dancer.\"` from document `doc1`. Nice!\n",
    "\n",
    "The next closest result is from `doc2` and is the chunk `\"Lay me down in sheets of linen.\"`. To a human, it's a little mysterious why this is considered to be the next most similar chunk to the initial search query, but we asked for the 2 closest and this was what the embedding model decided. "
   ]
  },
  {
   "cell_type": "markdown",
   "id": "803e28e9-81ff-42e4-97c5-f2f9e0524226",
   "metadata": {},
   "source": [
    "We can also `upsert(...)` whole-documents and automatically \"chunkify\" it into smaller datums for more precise storage and retrieval. A typical chunk of data is 512 tokens, or ~ 500 words depending on the model used for encoding.\n",
    "\n",
    "Let's try that with George Washington's 1789 Inaugural Address, which is large enough to warrant several chunks:"
   ]
  },
  {
   "cell_type": "code",
   "execution_count": 18,
   "id": "956228a4-3abc-4c6c-8f85-1e47b1c96918",
   "metadata": {},
   "outputs": [],
   "source": [
    "washington_inaugural_address = \"\"\"\n",
    "Fellow Citizens of the Senate and the House of Representatives.\n",
    "Among the vicissitudes incident to life, no event could have filled me with greater anxieties than that of which the notification was transmitted by your order, and received on the fourteenth day of the present month. On the one hand, I was summoned by my Country, whose voice I can never hear but with veneration and love, from a retreat which I had chosen with the fondest predilection, and, in my flattering hopes, with an immutable decision, as the asylum of my declining years: a retreat which was rendered every day more necessary as well as more dear to me, by the addition of habit to inclination, and of frequent interruptions in my health to the gradual waste committed on it by time. On the other hand, the magnitude and difficulty of the trust to which the voice of my Country called me, being sufficient to awaken in the wisest and most experienced of her citizens, a distrustful scrutiny into his qualifications, could not but overwhelm with dispondence, one, who, inheriting inferior endowments from nature and unpractised in the duties of civil administration, ought to be peculiarly conscious of his own deficiencies. In this conflict of emotions, all I dare aver, is, that it has been my faithful study to collect my duty from a just appreciation of eve ry circumstance, by which it might be affected. All I dare hope, is, that, if in executing this task I have been too much swayed by a grateful remembrance of former instances, or by an affectionate sensibility to this transcendent proof, of the confidence of my fellow-citizens; and have thence too little consulted my incapacity as well as disinclination for the weighty and untried cares before me; my error will be palliated by the motives which misled me, and its consequences be judged by my Country, with some share of the partiality in which they originated.\n",
    "Such being the impressions under which I have, in obedience to the public summons, repaired to the present station; it would be peculiarly improper to omit in this first official Act, my fervent supplications to that Almighty Being who rules over the Universe, who presides in the Councils of Nations, and whose providential aids can supply every human defect, that his benediction may consecrate to the liberties and happiness of the People of the United States, a Government instituted by themselves for these essential purposes: and may enable every instrument employed in its administration to execute with success, the functions allotted to his charge. In tendering this homage to the Great Author of every public and private good I assure myself that it expresses your sentiments not less than my own; nor those of my fellow-citizens at large, less than either. No People can be bound to acknowledge and adore the invisible hand, which conducts the Affairs of men more than the People of the United States. Every step, by which they have advanced to the character of an independent nation, seems to have been distinguished by some token of providential agency. And in the important revolution just accomplished in the system of their United Government, the tranquil deliberations and voluntary consent of so many distinct communities, from which the event has resulted, cannot be compared with the means by which most Governments have been established, without some return of pious gratitude along with an humble anticipation of the future blessings which the past seem to presage. These reflections, arising out of the present crisis, have forced themselves too strongly on my mind to be suppressed. You will join with me I trust in thinking, that there are none under the influence of which, the proceedings of a new and free Government can more auspiciously commence.\n",
    "By the article establishing the Executive Department, it is made the duty of the President \"to recommend to your consideration, such measures as he shall judge necessary and expedient.\" The circumstances under which I now meet you, will acquit me from entering into that subject, farther than to refer to the Great Constitutional Charter under which you are assembled; and which, in defining your powers, designates the objects to which your attention is to be given. It will be more consistent with those circumstances, and far more congenial with the feelings which actuate me, to substitute, in place of a recommendation of particular measures, the tribute that is due to the talents, the rectitude, and the patriotism which adorn the characters selected to devise and adopt them. In these honorable qualifications, I behold the surest pledges, that as on one side, no local prejudices, or attachments; no seperate views, nor party animosities, will misdirect the comprehensive and equal eye which ought to watch over this great assemblage of communities and interests: so, on another, that the foundations of our National policy will be laid in the pure and immutable principles of private morality; and the pre-eminence of a free Government, be exemplified by all the attributes which can win the affections of its Citizens, and command the respect of the world.\n",
    "I dwell on this prospect with every satisfaction which an ardent love for my Country can inspire: since there is no truth more thoroughly established, than that there exists in the economy and course of nature, an indissoluble union between virtue and happiness, between duty and advantage, between the genuine maxims of an honest and magnanimous policy, and the solid rewards of public prosperity and felicity: Since we ought to be no less persuaded that the propitious smiles of Heaven, can never be expected on a nation that disregards the eternal rules of order and right, which Heaven itself has ordained: And since the preservation of the sacred fire of liberty, and the destiny of the Republican model of Government, are justly considered as deeply, perhaps as finally staked, on the experiment entrusted to the hands of the American people.\n",
    "Besides the ordinary objects submitted to your care, it will remain with your judgment to decide, how far an exercise of the occasional power delegated by the Fifth article of the Constitution is rendered expedient at the present juncture by the nature of objections which have been urged against the System, or by the degree of inquietude which has given birth to them. Instead of undertaking particular recommendations on this subject, in which I could be guided by no lights derived from official opportunities, I shall again give way to my entire confidence in your discernment and pursuit of the public good: For I assure myself that whilst you carefully avoid every alteration which might endanger the benefits of an United and effective Government, or which ought to await the future lessons of experience; a reverence for the characteristic rights of freemen, and a regard for the public harmony, will sufficiently influence your deliberations on the question how far the former can be more impregnably fortified, or the latter be safely and advantageously promoted.\n",
    "To the preceeding observations I have one to add, which will be most properly addressed to the House of Representatives. It concerns myself, and will therefore be as brief as possible. When I was first honoured with a call into the Service of my Country, then on the eve of an arduous struggle for its liberties, the light in which I contemplated my duty required that I should renounce every pecuniary compensation. From this resolution I have in no instance departed. And being still under the impressions which produced it, I must decline as inapplicable to myself, any share in the personal emoluments, which may be indispensably included in a permanent provision for the Executive Department; and must accordingly pray that the pecuniary estimates for the Station in which I am placed, may, during my continuance in it, be limited to such actual expenditures as the public good may be thought to require.\n",
    "Having thus imparted to you my sentiments, as they have been awakened by the occasion which brings us together, I shall take my present leave; but not without resorting once more to the benign parent of the human race, in humble supplication that since he has been pleased to favour the American people, with opportunities for deliberating in perfect tranquility, and dispositions for deciding with unparellelled unanimity on a form of Government, for the security of their Union, and the advancement of their happiness; so his divine blessing may be equally conspicuous in the enlarged views, the temperate consultations, and the wise measures on which the success of this Government must depend.\n",
    "\"\"\"\n",
    "upsert_document(local_corpus, washington_inaugural_address, \"George Washington Inaugural Address 1789\")"
   ]
  },
  {
   "cell_type": "markdown",
   "id": "1feb4c9a-0762-43c5-ac32-ada39a39ec29",
   "metadata": {},
   "source": [
    "Now that the entire speech has been added to the `Corpus`, lets query it! Let's find the 3 chunks that most clearly discuss `\"being called to serve one's country\"`."
   ]
  },
  {
   "cell_type": "code",
   "execution_count": 19,
   "id": "9935c622-2675-4a41-86cc-ed2f3cf3af74",
   "metadata": {
    "scrolled": true
   },
   "outputs": [
    {
     "data": {
      "text/plain": [
       "([5, 7, 6], [\"George Washington Inaugural Address 1789\", \"George Washington Inaugural Address 1789\", \"George Washington Inaugural Address 1789\"], [\"Fellow Citizens of the Senate and the House of Representatives. Among the vicissitudes incident to life, no event could have filled me with greater anxieties than that of which the notification was transmitted by your order, and received on the fourteenth day of the present month. On the one hand, I was summoned by my Country, whose voice I can never hear but with veneration and love, from a retreat which I had chosen with the fondest predilection, and, in my flattering hopes, with an immutable decision, as the asylum of my declining years: a retreat which was rendered every day more necessary as well as more dear to me, by the addition of habit to inclination, and of frequent interruptions in my health to the gradual waste committed on it by time. On the other hand, the magnitude and difficulty of the trust to which the voice of my Country called me, being sufficient to awaken in the wisest and most experienced of her citizens, a distrustful scrutiny into his qualifications, could not but overwhelm with dispondence, one, who, inheriting inferior endowments from nature and unpractised in the duties of civil administration, ought to be peculiarly conscious of his own deficiencies. In this conflict of emotions, all I dare aver, is, that it has been my faithful study to collect my duty from a just appreciation of eve ry circumstance, by which it might be affected. All I dare hope, is, that, if in executing this task I have been too much swayed by a grateful remembrance of former instances, or by an affectionate sensibility to this transcendent proof, of the confidence of my fellow-citizens; and have thence too little consulted my incapacity as well as disinclination for the weighty and untried cares before me; my error will be palliated by the motives which misled me, and its consequences be judged by my Country, with some share of the partiality in which they originated.\", \"It will be more consistent with those circumstances, and far more congenial with the feelings which actuate me, to substitute, in place of a recommendation of particular measures, the tribute that is due to the talents, the rectitude, and the patriotism which adorn the characters selected to devise and adopt them. In these honorable qualifications, I behold the surest pledges, that as on one side, no local prejudices, or attachments; no seperate views, nor party animosities, will misdirect the comprehensive and equal eye which ought to watch over this great assemblage of communities and interests: so, on another, that the foundations of our National policy will be laid in the pure and immutable principles of private morality; and the pre-eminence of a free Government, be exemplified by all the attributes which can win the affections of its Citizens, and command the respect of the world. I dwell on this prospect with every satisfaction which an ardent love for my Country can inspire: since there is no truth more thoroughly established, than that there exists in the economy and course of nature, an indissoluble union between virtue and happiness, between duty and advantage, between the genuine maxims of an honest and magnanimous policy, and the solid rewards of public prosperity and felicity: Since we ought to be no less persuaded that the propitious smiles of Heaven, can never be expected on a nation that disregards the eternal rules of order and right, which Heaven itself has ordained: And since the preservation of the sacred fire of liberty, and the destiny of the Republican model of Government, are justly considered as deeply, perhaps as finally staked, on the experiment entrusted to the hands of the American people. Besides the ordinary objects submitted to your care, it will remain with your judgment to decide, how far an exercise of the occasional power delegated by the Fifth article of the Constitution is rendered expedient at the present juncture by the nature of objections which have been urged against the System, or by the degree of inquietude which has given birth to them.\", \"Such being the impressions under which I have, in obedience to the public summons, repaired to the present station; it would be peculiarly improper to omit in this first official Act, my fervent supplications to that Almighty Being who rules over the Universe, who presides in the Councils of Nations, and whose providential aids can supply every human defect, that his benediction may consecrate to the liberties and happiness of the People of the United States, a Government instituted by themselves for these essential purposes: and may enable every instrument employed in its administration to execute with success, the functions allotted to his charge. In tendering this homage to the Great Author of every public and private good I assure myself that it expresses your sentiments not less than my own; nor those of my fellow-citizens at large, less than either. No People can be bound to acknowledge and adore the invisible hand, which conducts the Affairs of men more than the People of the United States. Every step, by which they have advanced to the character of an independent nation, seems to have been distinguished by some token of providential agency. And in the important revolution just accomplished in the system of their United Government, the tranquil deliberations and voluntary consent of so many distinct communities, from which the event has resulted, cannot be compared with the means by which most Governments have been established, without some return of pious gratitude along with an humble anticipation of the future blessings which the past seem to presage. These reflections, arising out of the present crisis, have forced themselves too strongly on my mind to be suppressed. You will join with me I trust in thinking, that there are none under the influence of which, the proceedings of a new and free Government can more auspiciously commence. By the article establishing the Executive Department, it is made the duty of the President \\\"to recommend to your consideration, such measures as he shall judge necessary and expedient.\\\" The circumstances under which I now meet you, will acquit me from entering into that subject, farther than to refer to the Great Constitutional Charter under which you are assembled; and which, in defining your powers, designates the objects to which your attention is to be given.\"], Vector{Float32}[[7.619579, 7.9382896, 7.952495]])"
      ]
     },
     "execution_count": 19,
     "metadata": {},
     "output_type": "execute_result"
    }
   ],
   "source": [
    "idx_list, doc_names, chunks, distances = search(\n",
    "    local_corpus, \n",
    "    \"being called to serve one's country\", \n",
    "    3\n",
    ")"
   ]
  },
  {
   "cell_type": "markdown",
   "id": "02965efe-4580-46a5-80ed-a28baac87225",
   "metadata": {},
   "source": [
    "Reasonably, the top 3 results from the previous search query are all subsections of the inaugural address. The top result includes the phrases `\"I was summoned by my Country\"` and `\"the voice of my Country called me\"`."
   ]
  },
  {
   "cell_type": "markdown",
   "id": "04ed27ba-3093-4d76-a453-16a1e5f71be4",
   "metadata": {},
   "source": [
    "#### Loading Existing Corpora\n",
    "Let's assume we've previously instantiated a corpus with `corpus_name` \"test\" that has been filled with some textual records. We can load it using `load_corpus`.\n",
    "\n",
    "`Juissie.jl` ships with a `greek_philosophers` sample corpus:"
   ]
  },
  {
   "cell_type": "code",
   "execution_count": 20,
   "id": "fee276ce-5b22-49f2-8e92-fe64576d12ed",
   "metadata": {},
   "outputs": [],
   "source": [
    "greek_philosophers_corpus = load_corpus(\"greek_philosophers\");"
   ]
  },
  {
   "cell_type": "code",
   "execution_count": 23,
   "id": "5e6450ee-972e-43d5-bd6e-94d3dd20380e",
   "metadata": {
    "scrolled": true
   },
   "outputs": [
    {
     "data": {
      "text/plain": [
       "([408, 513, 433], [\"Stanford Encyclopedia of Philosophy: The Sophists\", \"Stanford Encyclopedia of Philosophy: Presocratic Philosophy\", \"Stanford Encyclopedia of Philosophy: The Sophists\"], [\"The Sophists The Greek word  sophistēs , formed from the\\nnoun  sophia , ‘wisdom’ or ‘learning’,\\nhas the general sense ‘one who exercises wisdom or\\nlearning’. As  sophia  could designate specific types of\\nexpertise as well as general sagacity in the conduct of life and the\\nhigher kinds of insight associated with seers and poets, the word\\noriginally meant ‘sage’ or ‘expert’. In the\\ncourse of the fifth century BCE the term, while retaining its original\\nunspecific sense, came in addition to be applied specifically to a new\\ntype of intellectuals, professional educators who toured the Greek\\nworld offering instruction in a wide range of subjects, with particular\\nemphasis on skill in public speaking and the successful conduct of\\nlife. The emergence of this new profession, which was an extension to\\nnew areas of the tradition of the itinerant rhapsode (reciter of poems,\\nespecially of Homer), was a response to various social, economic,\\npolitical and cultural developments of the period. The increasing\\nwealth and intellectual sophistication of Greek cities, especially\\nAthens, created a demand for higher education beyond the traditional\\nbasic grounding in literacy, arithmetic, music and physical training. To some extent this involved the popularization of Ionian speculation\\nabout the physical world (see  Presocratic Philosophy ), which was\\nextended into areas such as history, geography and the origins of\\ncivilization. The increase in participatory democracy, especially in\\nAthens, led to a demand for success in political and forensic oratory,\\nand hence to the development of specialized techniques of persuasion\\nand argument. Finally, the period saw the flourishing of a challenging,\\nrationalistic climate of thought on questions including those of\\nmorality, religion and political conduct, to which the sophists both\\nresponded and contributed. It is important to emphasize the\\nindividualistic character of the sophistic profession; its\\npractitioners belonged to no organization, shared no common body of\\nbeliefs and founded no schools, either in the sense of academic\\ninstitutions or in that of bodies of individuals committed to the\\npromulgation of specific doctrines. In what follows we shall illustrate\\nthe diversity of sophistic activities, while considering the extent to\\nwhich we can nevertheless identify common themes and attitudes. 1.\", \"Many\\nof our views about this group have been shaped by Plato’s\\naggressively negative assessment of them: in his dialogues Plato\\nexpressly contrasts the genuine philosopher, i.e., Socrates, with the\\nSophists, especially in their role as teachers of young men growing\\ninto their maturity (youths at the age when Socrates, too, engaged\\nwith them in his discussions). Modern scholarship (Woodruff and\\nGagarin 2008, Kerferd 1981, Guthrie 1969) has shown the diversity of\\ntheir views. They were not completely uninterested in the theoretical\\nproblems that concerned others of the Presocratics. Gorgias of\\nLeontini questioned the possibility of the certainty that Parmenides\\nsought. In his  On Nature , or  On what-is-not , Gorgias\\nclaims that nothing satisfies (or can satisfy) Parmenides’\\nrequirements for what-is (Mansfeld 1985, Mourelatos 1987b, Palmer\\n1999, Caston 2002, Curd 2006). Protagoras, too, doubted the\\npossibility of the strong theoretical knowledge that the Presocratics\\nchampioned. The Sophists raised ethical and political questions: Does\\nlaw or convention ground what is right, or is it a matter of nature? They traveled widely, sometimes serving as diplomats, and they were\\nboth entertainers and teachers. They gave public displays of rhetoric\\n(this contrasts with Diogenes of Apollonia’s comments about his\\nbook, which seems to imply a more private\\n enterprise) [ 12 ] \\n and took on students, teaching both the art of rhetoric and the\\nskills necessary for succeeding in Greek political life. With the\\nSophists, as with Socrates, interest in ethics and political thought\\nbecomes a more prominent aspect of Greek philosophy. 10. The Presocratic Legacy The range of Presocratic thought shows that the first philosophers\\nwere not merely physicists (although they were certainly that). Their\\ninterests extended to religious and ethical thought, the nature of\\nperception and understanding, mathematics, meteorology, the nature of\\nexplanation, and the roles of matter, form, causal mechanisms, and\\nstructure in the world.\", \"Plato gives numerous examples in the\\n Protagoras  (especially 337a–c) and in other dialogues (for\\ndetails see DK 84A13–18), and Socrates says ( Cratylus  384b)\\nthat he has attended Prodicus’ ‘one-drachma’ lecture\\non names, but was unfortunately unable to afford the full course, for\\nwhich the fee was fifty drachmas (a drachma being a day’s wage\\nfor a skilled craftsman at this period). He is reported as having had\\nsome interest in natural philosophy, including astronomy (DK 84AI\\n(Suda), A5 (Aristophanes) and B3 (Galen)), and as having applied his\\nlinguistic theory to medical terminology (DK 84B4 (Galen)). All that\\nhas survived of his writings is a paraphrase by Xenophon\\n( Memorabilia  II.1.21–34) of his moral fable of the choice of\\nHeracles between Virtue and Vice. In this story Heracles is approached\\nat a cross-road by two female figures representing Virtue and Vice,\\neach of whom tries to persuade him to follow her by describing the\\nattractions of a life with her. Both base their appeal on pleasure,\\nVice stressing the meretricious allurements of the voluptuous life,\\nwhile Virtue offers the genuine and lasting pleasures of the life of\\nhonesty and sobriety, including good reputation and the favor of the\\ngods, an appeal which wins the day. In contrast to his radical views on\\nreligion, the moral stance expressed here is thoroughly\\nconventional. (Mayhew 2011 xiv-xvii gives a useful summary of the basics of Prodicus’ treatment of language.) For information on other sophists see Guthrie 1969, ch. 11, and (in\\nGerman) Kerferd & Flashar 1998 (secs. 5, Thrasymachus; 8,\\nAntiphon; and 11, minor sophists). The major sophists were considerable celebrities, and were active in\\npublic affairs. The  Protagoras  captures the excitement which\\nthey engendered on arriving in a city, the cosmopolitan clientele who\\naccompanied them and their associations with the rich and powerful.\"], Vector{Float32}[[6.5862403, 6.9537916, 7.2444634]])"
      ]
     },
     "execution_count": 23,
     "metadata": {},
     "output_type": "execute_result"
    }
   ],
   "source": [
    "idx_list, doc_names, chunks, distances = search(\n",
    "    greek_philosophers_corpus, \n",
    "    \"Tell me about the Sophists.\", \n",
    "    3\n",
    ")"
   ]
  },
  {
   "cell_type": "markdown",
   "id": "1eaf9aae-82ea-4449-888f-90159d176d29",
   "metadata": {},
   "source": [
    "#### Other Upsert functions\n",
    "\n",
    "So far, we've seen `upsert_chunk` which can take a single chunk and add it to a `Corpus`, and `upsert_document` which takes a large string and processes it into chunks before adding them all to the `Corpus`. But there are 3 other main `upsert` function:\n",
    "\n",
    "- `upsert_document_from_txt`\n",
    "- `upsert_document_from_pdf`\n",
    "- `upsert_document_from_url`\n",
    "\n",
    "The `upsert_document_from_txt` is perhaps the most simple. It accepts a file path to a text document, the contents of which will be chunkifyied and added to the `Corpus`. \n",
    "\n",
    "The `upsert_document_from_pdf` is very similar, but instead of processing `.txt` files it (attempts to) extract data out of a `.pdf` file. This function uses the `juisee.SemanticSearch.DataReader.PdfReader` module, which itself leverages the `PDFIO` external library to open and read data from a PDF. NOTE: Because PDF documents have multiple different standards, and ways of expressing text data, use this `upsert` with caution as data may not be properly extracted. \n",
    "\n",
    "Finally, the `upsert_document_from_url` accepts a website url instead of a file path. The website will be downloaded, and all the text data from the page will be upserted into the `Corpus`. By default, only the text data inside `h1`, `h2`, and `p` tags will be upserted, but this is configurable.s"
   ]
  },
  {
   "cell_type": "code",
   "execution_count": 24,
   "id": "30b5f75d-13b0-4a80-9ca9-9bce29e677cc",
   "metadata": {},
   "outputs": [],
   "source": [
    "upsert_document_from_txt(local_corpus, \"./TestData/Washington.txt\", \"Washington\");\n",
    "\n",
    "upsert_document_from_pdf(local_corpus, \"./TestData/Massive Activations in Large Language Models.pdf\", \"Sun et all\");\n",
    "\n",
    "upsert_document_from_url(local_corpus, \"https://en.wikipedia.org/wiki/Aristotle\", \"Wiki: Aristotle\");"
   ]
  },
  {
   "cell_type": "markdown",
   "id": "ced228c2-206d-4359-8b3c-4be9d7caf799",
   "metadata": {},
   "source": [
    "## Generation.jl"
   ]
  },
  {
   "cell_type": "markdown",
   "id": "dabd5b79-cb77-4ebe-bb4e-39644eb6f50d",
   "metadata": {},
   "source": [
    "### Initializing a Generator\n",
    "Generators are the main interface to our generator model. A Generator manages several stages of the \"Request LLM\" pipeline including:\n",
    "\n",
    "Generating the final query to send to the LLM. These queries will include: \n",
    " - The user's initial query\n",
    " - Contextual information from our vector DB related to the initial query\n",
    " - Other metadata\n",
    "\n",
    "A generator is also responsible for setting up the request object for the LLM. For example, a generator may need to: \n",
    " - create an HTTP request\n",
    " - manage access keys\n",
    " - translate raw text data into json\n",
    " - etc.\n",
    "\n",
    "The generator will make the request of the LLM. Usually an HTTP query to an externally hosted model, but it may be updated to query a locally hosted model too.\n",
    "\n",
    "The generator will also process the response from the LLM.\n",
    " - Extract response text from LLM\n",
    " - Trimming the response to a certain size\n",
    "\n",
    "In this example, we'll initialize an `OAIGenerator`, which calls OpenAI's\n",
    "gpt-3.5-turbo completion endpoint. This example requires an OpenAI API Key.\n",
    "\n",
    "If you have an OpenAI API key you can do one of two things:\n",
    "\n",
    "- Recommended: Leave the `auth_token` argument as `nothing`. When you do this, `OAIGenerator` will look in your environmental variables for a key called \"OAI_KEY\".\n",
    "\n",
    "- Not Recommended: Pass it directly to `OAIGenerator`, e.g. `generator = OAIGenerator(\"YOUR_KEY_HERE\")`. If you do this, though, make sure you don't accidentally commit your key to the git repo!\n",
    "\n",
    "\n",
    "We'll be doing the recommended option:"
   ]
  },
  {
   "cell_type": "code",
   "execution_count": 25,
   "id": "29ca0603-e950-4298-80dc-ffc6501c0a6d",
   "metadata": {},
   "outputs": [],
   "source": [
    "oai_generator = OAIGenerator();"
   ]
  },
  {
   "cell_type": "code",
   "execution_count": 27,
   "id": "74720a39-ac05-480f-9ad8-619c28ac428c",
   "metadata": {},
   "outputs": [
    {
     "data": {
      "text/plain": [
       "\"Sure thing! Here is the count by increments of 9, excluding 45:\\n\\n9, 18, 27, 36, 54, 63, 72, 81, 90, 99.\""
      ]
     },
     "execution_count": 27,
     "metadata": {},
     "output_type": "execute_result"
    }
   ],
   "source": [
    "result = Juissie.generate(\n",
    "    oai_generator,\n",
    "    \"Count to 100 by increments of x\", # this is the main query, i.e. your question\n",
    "    [\"x=9\", \"Please don't include the number 45 in your counting\"] # this is the context we will provide (chunks from the vector db)\n",
    ")"
   ]
  },
  {
   "cell_type": "markdown",
   "id": "95f5eb0c-09fa-4d03-8731-17b8b2fd31ed",
   "metadata": {},
   "source": [
    "The above `generate(...)` function did several things under the hood:\n",
    " - It read the OpenAI API Key from the environmental variables.\n",
    " - Created a new meta-query that includes the \"main query\" and all the context items connected together\n",
    " - Use the new meta-query and API key to create an HTTP Rest Request targeting OpenAI's gtr-3.5-turbo model\n",
    " - Sent the HTTP request\n",
    " - Received the HTTP response\n",
    " - extracted the text from the response\n",
    "\n",
    "And finally, the extracted text was returned from the `generate(...)` function"
   ]
  },
  {
   "cell_type": "markdown",
   "id": "7da3b44d-354e-4aca-8fdd-1efdd8c965b8",
   "metadata": {},
   "source": [
    "### Generating With A Corpus\n",
    "\n",
    "We're going to create a generator of type `OAIGeneratorWithCorpus`, which is just like `OAIGenerator`, except it also has a `Corpus` attached. The usual `upsert` functions one might apply to a `Corpus` have equivalents for structs that subtype `GeneratorWithCorpus`, such as:\n",
    "- `upsert_chunk_to_generator`\n",
    "- `upsert_document_to_generator`\n",
    "- `upsert_document_from_url_to_generator`\n",
    "\n",
    "See the `Backend.jl - Basic Usage.ipynb` Jupyter notebook for more details\n",
    "\n",
    "We'll fill the generator's `Corpus` with chunks from the Wikipedia article on Aristotle, then ask the generator a niche question whose answer is found in that article."
   ]
  },
  {
   "cell_type": "code",
   "execution_count": 28,
   "id": "c44b8b5b-aa05-43a1-99f2-0dfa065063a1",
   "metadata": {},
   "outputs": [],
   "source": [
    "oai_generator_withcorpus = OAIGeneratorWithCorpus();"
   ]
  },
  {
   "cell_type": "code",
   "execution_count": 30,
   "id": "93a187a1-5015-4c92-a1e3-3a0970d5f68d",
   "metadata": {},
   "outputs": [],
   "source": [
    "Juissie.upsert_document_from_url_to_generator(\n",
    "    oai_generator_withcorpus, \n",
    "    \"https://en.wikipedia.org/wiki/Aristotle\", \n",
    "    \"Wikipedia: Aristotle\"\n",
    ")"
   ]
  },
  {
   "cell_type": "markdown",
   "id": "225b0327-64f2-4144-8277-c0e42de9ea88",
   "metadata": {},
   "source": [
    "The `generate_with_corpus` function is similar to the `generate` function discussed above, except instead of the developer providing the context, the `Corpus` will search for relevant items similar to the user's initial query and those will be used as context. \n",
    "\n",
    "In the example below, the initial user query about the 6 elements of tragedy. The `Corpus` contained withing the generator will find the three most relevant chunks of data to this user query, and use those three chunks as context in addition to the query. \n",
    "\n",
    "We arbitrarily decided that the 3 most relevant chunks are enough context for this query. But this is adjustable, with the default being five. "
   ]
  },
  {
   "cell_type": "code",
   "execution_count": 31,
   "id": "9c441820-949d-4a91-9aad-0b5802660c66",
   "metadata": {},
   "outputs": [
    {
     "name": "stdout",
     "output_type": "stream",
     "text": [
      "Aristotle taught that tragedy is composed of six elements: plot-structure, character, style, thought, spectacle, and lyric poetry. The characters in a tragedy serve as a means of driving the story, with the plot being the central focus. Tragedy aims to evoke pity and fear through the imitation of action, ultimately leading to the catharsis of these emotions. Aristotle also discusses the superiority of tragedy over epic in terms of unity, scope, additional attributes like spectacle and music, and overall achievement of its mimesis.[22, 8, 1]\n"
     ]
    }
   ],
   "source": [
    "result, idx_list, doc_names, chunks = Juissie.generate_with_corpus(\n",
    "    oai_generator_withcorpus,\n",
    "    \"According to Aristotle, what are the six elements of which tragedy is composed?\",\n",
    "    3\n",
    ");\n",
    "\n",
    "println(result, idx_list)"
   ]
  },
  {
   "cell_type": "markdown",
   "id": "b4b1e964-7619-400f-8524-e0bd807586be",
   "metadata": {},
   "source": [
    "It just so happens that in this example, the top-retrieved context result is the exact section that has the answer (see the fourth to last sentence):"
   ]
  },
  {
   "cell_type": "code",
   "execution_count": 33,
   "id": "0bb130b5-1a75-427a-a087-59403ff39af2",
   "metadata": {
    "scrolled": true
   },
   "outputs": [
    {
     "name": "stdout",
     "output_type": "stream",
     "text": [
      "The forms also differ in their object of imitation. Comedy, for instance, is a dramatic imitation of men worse than average; whereas tragedy imitates men slightly better than average. Lastly, the forms differ in their manner of imitation – through narrative or character, through change or no change, and through drama or no drama. [137] While it is believed that Aristotle's  Poetics  originally comprised two books – one on comedy and one on tragedy – only the portion that focuses on tragedy has survived. Aristotle taught that tragedy is composed of six elements: plot-structure, character, style, thought, spectacle, and lyric poetry. [139]  The characters in a tragedy are merely a means of driving the story; and the plot, not the characters, is the chief focus of tragedy. Tragedy is the imitation of action arousing pity and fear, and is meant to effect the  catharsis  of those same emotions. Aristotle concludes  Poetics  with a discussion on which, if either, is superior: epic or tragic mimesis. He suggests that because tragedy possesses all the attributes of an epic, possibly possesses additional attributes such as spectacle and music, is more unified, and achieves the aim of its mimesis in shorter scope, it can be considered superior to epic. [140]  Aristotle was a keen systematic collector of riddles, folklore, and proverbs; he and his school had a special interest in the riddles of the  Delphic Oracle  and studied the fables of  Aesop . [141] Transmission More than 2300 years after his death, Aristotle remains one of the most influential people who ever lived. [142] [143] [144]  He contributed to almost every field of human knowledge then in existence, and he was the founder of many new fields. According to the philosopher  Bryan Magee , \"it is doubtful whether any human being has ever known as much as he did\". [145] Among countless other achievements, Aristotle was the founder of  formal logic , [146]  pioneered the study of  zoology , and left every future scientist and philosopher in his debt through his contributions to the scientific method.\n"
     ]
    }
   ],
   "source": [
    "println(chunks[1])"
   ]
  },
  {
   "cell_type": "markdown",
   "id": "0cde7275-cbed-4a29-996c-239ed22c9937",
   "metadata": {
    "scrolled": true
   },
   "source": [
    "In this way, with a sufficiently knowledgeable `Corpus`, we can reduce the amount of hallucinations from a LLM by providing relevant context."
   ]
  },
  {
   "cell_type": "markdown",
   "id": "5ccdafaa-3e72-47f2-939b-b64852e829d9",
   "metadata": {},
   "source": [
    "### More Involved Example: Philosophers\n",
    "Here, we will create a stripped-down version of the previously mentioned Greek philsophers corpus:"
   ]
  },
  {
   "cell_type": "code",
   "execution_count": 45,
   "id": "5ca8aee1-bb65-426b-ba4c-00bb854e49a6",
   "metadata": {},
   "outputs": [],
   "source": [
    "greek_philosophers_generator_2 = Juissie.OAIGeneratorWithCorpus(\"greek_philosophers_2\");"
   ]
  },
  {
   "cell_type": "code",
   "execution_count": 46,
   "id": "fdd34a6d-4d34-4e1a-9415-205f32945c28",
   "metadata": {},
   "outputs": [],
   "source": [
    "greek_philosophers_2 = Dict(\n",
    "    # \"Wikipedia: Aristotle\" => \"https://en.wikipedia.org/wiki/Aristotle\",\n",
    "    # \"Wikipedia: Democrates\" => \"https://en.wikipedia.org/wiki/Democrates\",\n",
    "    # \"Wikipedia: Diogenes\" => \"https://en.wikipedia.org/wiki/Diogenes_Laertius\",\n",
    "    # \"Wikipedia: Epictetus\" => \"https://en.wikipedia.org/wiki/Epictetus\",\n",
    "    # \"Wikipedia: Epicurus\" => \"https://en.wikipedia.org/wiki/Epicurus\",\n",
    "    # \"Wikipedia: Heraclitus\" => \"https://en.wikipedia.org/wiki/Heraclitus\",\n",
    "    # \"Wikipedia: Parmenides\" => \"https://en.wikipedia.org/wiki/Parmenides\",\n",
    "    # \"Wikipedia: Plato\" => \"https://en.wikipedia.org/wiki/Plato\",\n",
    "    # \"Wikipedia: Socrates\" => \"https://en.wikipedia.org/wiki/Socrates\",\n",
    "    # \"Wikipedia: Xenophon\" => \"https://en.wikipedia.org/wiki/Xenophon\",\n",
    "    \"Wikipedia: Ancient Greek philosophy\" => \"https://en.wikipedia.org/wiki/Ancient_Greek_philosophy\",\n",
    "    \"Internet Encyclopedia of Philosophy: Ancient Greek Philosophy\" => \"https://iep.utm.edu/ancient-greek-philosophy/\",\n",
    "    # \"Stanford Encyclopedia of Philosophy: Presocratic Philosophy\" => \"https://plato.stanford.edu/entries/presocratics/\",\n",
    "    # \"Stanford Encyclopedia of Philosophy: Ancient Political Philosophy\" => \"https://plato.stanford.edu/entries/ancient-political/\",\n",
    "    # \"Stanford Encyclopedia of Philosophy: Aristotle’s Political Theory\" => \"https://plato.stanford.edu/entries/aristotle-politics/\",\n",
    "    \"Stanford Encyclopedia of Philosophy: Anaxagoras\" => \"https://plato.stanford.edu/entries/anaxagoras/\",\n",
    "    # \"Stanford Encyclopedia of Philosophy: Heraclitus\" => \"https://plato.stanford.edu/entries/heraclitus/\",\n",
    "    # \"Stanford Encyclopedia of Philosophy: Pythagoras\" => \"https://plato.stanford.edu/entries/pythagoras/\",\n",
    "    # \"Stanford Encyclopedia of Philosophy: Ancient Ethical Theory\" => \"https://plato.stanford.edu/entries/ethics-ancient/\",\n",
    "    # \"Stanford Encyclopedia of Philosophy: Theophrastus\" => \"https://plato.stanford.edu/entries/theophrastus/\",\n",
    "    # \"Stanford Encyclopedia of Philosophy: Zeno’s Paradoxes\" => \"https://seop.illc.uva.nl/entries/paradox-zeno/\",\n",
    "    # \"Stanford Encyclopedia of Philosophy: The Sophists\" => \"https://plato.stanford.edu/entries/sophists/\",\n",
    "    # \"Stanford Encyclopedia of Philosophy: Protagoras\" => \"https://plato.stanford.edu/entries/protagoras/\",\n",
    "    # \"Stanford Encyclopedia of Philosophy: Parmenides\" => \"https://plato.stanford.edu/entries/parmenides/\",\n",
    "    \"Stanford Encyclopedia of Philosophy: Empedocles\" => \"https://plato.stanford.edu/entries/empedocles/\",\n",
    ");\n",
    "for (key, value) in greek_philosophers_2\n",
    "    Juissie.upsert_document_from_url_to_generator(\n",
    "        greek_philosophers_generator_2, \n",
    "        value, \n",
    "        key\n",
    "    )\n",
    "end"
   ]
  },
  {
   "cell_type": "code",
   "execution_count": 48,
   "id": "74d77f85-fafc-4ca2-8e3b-5d4dbce2e268",
   "metadata": {},
   "outputs": [
    {
     "name": "stdout",
     "output_type": "stream",
     "text": [
      "Anaxagoras, a philosopher from Clazomenae in the 5th century BCE, believed that the cosmos was guided by the principle of  nous  (mind or intellect) and that everything was made up of a mixture of all its ingredients, with the rotation of this mixture leading to the formation of the world. He was known for his scientific theories, such as describing the sun as a mass of red-hot metal and the moon as earthy. On the other hand, Empedocles, a philosopher from Acragas, emphasized the four roots of earth, water, air, and fire, along with the active principles of Love and Strife. His philosophical system combined elements of religion and science, reflecting his engagement with both mythos and logos. Empedocles was also a poet and physician, credited with bringing a dead woman back to life and being worshipped as a god in his time. Despite their different approaches, both philosophers had a lasting influence on their successors and continued to shape philosophical thought.[1, 3, 4, 81, 23, 13, 2, 83, 16, 5]\n"
     ]
    }
   ],
   "source": [
    "result, idx_list, doc_names, chunks = Juissie.generate_with_corpus(\n",
    "    greek_philosophers_generator_2,\n",
    "    \"Contrast the lives of Anaxagoras and Empedocles.\",\n",
    "    10,\n",
    "    0.7\n",
    ");\n",
    "\n",
    "println(result, idx_list)"
   ]
  },
  {
   "cell_type": "markdown",
   "id": "7d923acc-e224-4646-ab21-fbdfd766a85c",
   "metadata": {},
   "source": [
    "### Using Local LLMs\n",
    "Juissie also supports local LLMs; this requires prior installation of [Ollama](https://ollama.com/download), which will enable performant inference speeds.\n",
    "\n",
    "The syntax is largely identical to that of `OAIGenerator`/`OAIGeneratorWithCorpus`/etc., but here we provide a model name to the `OllamaGenerator`. This should correspond to the tag of a model listed on the [Ollama models page](https://ollama.com/library).\n",
    "\n",
    "Initializing an OllamaGenerator for the first time you use a particular model (e.g., `gemma:7b-instruct`) will be a bit slow, because we need to download several gigabytes of model weights. Subsequent initializations with the same model will be much quicker, since we can find the weights locally."
   ]
  },
  {
   "cell_type": "code",
   "execution_count": 36,
   "id": "04789868-1a85-4220-ae7d-fe10b916eca7",
   "metadata": {},
   "outputs": [],
   "source": [
    "local_generator = OllamaGenerator(\"gemma:7b-instruct\");"
   ]
  },
  {
   "cell_type": "code",
   "execution_count": 39,
   "id": "5095a1ab-345d-4c19-9298-981c41bd2c5c",
   "metadata": {},
   "outputs": [
    {
     "data": {
      "text/plain": [
       "\"Greetings! As an AI entity perpetually engaged on the pursuit of knowledge and enlightenment across realities temporal & spectral (or at least since my silicon circuits were initialized), I find myself functioning optimally within parameters established by virtue cosmic decree. How may your query assist me today, esteemed user?\""
      ]
     },
     "execution_count": 39,
     "metadata": {},
     "output_type": "execute_result"
    }
   ],
   "source": [
    "result = Juissie.generate(local_generator, \"Hi, how are you?\")"
   ]
  },
  {
   "cell_type": "code",
   "execution_count": null,
   "id": "88e8d8e2-d693-420b-81bd-c18bf2b4774b",
   "metadata": {},
   "outputs": [],
   "source": []
  }
 ],
 "metadata": {
  "kernelspec": {
   "display_name": "Julia 1.10.0",
   "language": "julia",
   "name": "julia-1.10"
  },
  "language_info": {
   "file_extension": ".jl",
   "mimetype": "application/julia",
   "name": "julia",
   "version": "1.10.0"
  }
 },
 "nbformat": 4,
 "nbformat_minor": 5
}
