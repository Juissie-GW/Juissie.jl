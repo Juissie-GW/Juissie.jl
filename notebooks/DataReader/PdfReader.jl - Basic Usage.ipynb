{
 "cells": [
  {
   "cell_type": "code",
   "execution_count": 8,
   "metadata": {},
   "outputs": [
    {
     "name": "stderr",
     "output_type": "stream",
     "text": [
      "\u001b[32m\u001b[1m   Resolving\u001b[22m\u001b[39m package versions...\n"
     ]
    },
    {
     "name": "stderr",
     "output_type": "stream",
     "text": [
      "\u001b[32m\u001b[1m  No Changes\u001b[22m\u001b[39m to `~/Projects/School/SoftwareParadigms/csci_6221/Project.toml`\n",
      "\u001b[32m\u001b[1m  No Changes\u001b[22m\u001b[39m to `~/Projects/School/SoftwareParadigms/csci_6221/Manifest.toml`\n"
     ]
    },
    {
     "ename": "UndefVarError",
     "evalue": "UndefVarError: `Logging` not defined",
     "output_type": "error",
     "traceback": [
      "UndefVarError: `Logging` not defined\n",
      "\n",
      "Stacktrace:\n",
      " [1] top-level scope\n",
      "   @ ~/Projects/School/SoftwareParadigms/csci_6221/notebooks/DataReader/PdfReader.jl - Basic Usage.ipynb:3"
     ]
    }
   ],
   "source": [
    "using Pkg\n",
    "Pkg.add(Pkg.PackageSpec(;name=\"PDFIO\", version=\"v0.1.14\"))\n",
    "Pkg.add(\"Logging\")\n",
    "\n",
    "include(\"../../src/SemanticSearch/DataReader/PdfReader.jl\")\n",
    "\n",
    "pdfFilePath::String = \"../TestData/2402.17762.pdf\""
   ]
  },
  {
   "cell_type": "markdown",
   "metadata": {},
   "source": [
    "# Pdf Reader Module\n",
    "\n",
    "This module is a useful wrapper for the PDFIO library https://github.com/sambitdash/PDFIO.jl?tab=readme-ov-file\n",
    "\n",
    "The PdfReader module allows a developer to quickly open and access the text data inside a pdf for upserting into a Corpus.\n",
    "\n",
    "### Third Party License - PDFIO \n",
    "PDFIO: https://github.com/sambitdash/PDFIO.jl?tab=readme-ov-file\n",
    "\n",
    "License for the PDFIO may be found here: https://github.com/sambitdash/PDFIO.jl?tab=License-1-ov-file#pdfio-license"
   ]
  },
  {
   "cell_type": "markdown",
   "metadata": {},
   "source": [
    "### PdfReader.getAllTextInPDF\n",
    "\n",
    "This function opens a target file, and returns a Vector of Strings. Each entry in this result represents 100 pages worth of text data from the source PDF. The content of the resultant vector are in order, IE the first entry is the first 100 pages, the next is pages 201-300 etc.."
   ]
  },
  {
   "cell_type": "code",
   "execution_count": 4,
   "metadata": {},
   "outputs": [
    {
     "data": {
      "text/plain": [
       "1-element Vector{String}:\n",
       " \"         character of an indep\"\u001b[93m\u001b[1m ⋯ 6302 bytes ⋯ \u001b[22m\u001b[39m\"epend. \\n\\n          \\n          \""
      ]
     },
     "metadata": {},
     "output_type": "display_data"
    }
   ],
   "source": [
    "PdfReader.getAllTextInPDF(pdfFilePath)"
   ]
  },
  {
   "cell_type": "markdown",
   "metadata": {},
   "source": [
    "### PdfReader.getPagesInPDF_All\n",
    "\n",
    "This function opens a target file, and returns a Vector of Strings. Each entry in this result represents 1 single page worth of text data from the source PDF. The contents of the resultant vector are in correct page order. "
   ]
  },
  {
   "cell_type": "code",
   "execution_count": 5,
   "metadata": {},
   "outputs": [
    {
     "data": {
      "text/plain": [
       "3-element Vector{String}:\n",
       " \"         character of an indep\"\u001b[93m\u001b[1m ⋯ 4481 bytes ⋯ \u001b[22m\u001b[39m\"    advantageously promoted.  \"\n",
       " \"          \\n         To the for\"\u001b[93m\u001b[1m ⋯ 1761 bytes ⋯ \u001b[22m\u001b[39m\"epend. \\n\\n          \\n          \"\n",
       " \"          \\n         To the for\"\u001b[93m\u001b[1m ⋯ 1761 bytes ⋯ \u001b[22m\u001b[39m\"epend. \\n\\n          \\n          \""
      ]
     },
     "metadata": {},
     "output_type": "display_data"
    }
   ],
   "source": [
    "\n",
    "PdfReader.getPagesInPDF_All(pdfFilePath)"
   ]
  },
  {
   "cell_type": "markdown",
   "metadata": {},
   "source": [
    "In order to use this library with the Backend.jl module see this example: "
   ]
  },
  {
   "cell_type": "code",
   "execution_count": 6,
   "metadata": {},
   "outputs": [
    {
     "name": "stderr",
     "output_type": "stream",
     "text": [
      "WARNING: replacing module Juissie.\n"
     ]
    },
    {
     "ename": "UndefVarError",
     "evalue": "UndefVarError: `Logging` not defined",
     "output_type": "error",
     "traceback": [
      "UndefVarError: `Logging` not defined\n",
      "\n",
      "Stacktrace:\n",
      " [1] getPagesFromPdf(pdfHandel::PDFIO.PD.PDDocImpl, firstPageInclusive::Int64, lastPageInclusive::Int64)\n",
      "   @ Main.Juissie.SemanticSearch.Backend.PdfReader ~/Projects/School/SoftwareParadigms/csci_6221/src/SemanticSearch/DataReader/PdfReader.jl:99\n",
      " [2] getAllTextInPDF(fileLocation::String, pagesPerEntry::Int64)\n",
      "   @ Main.Juissie.SemanticSearch.Backend.PdfReader ~/Projects/School/SoftwareParadigms/csci_6221/src/SemanticSearch/DataReader/PdfReader.jl:40\n",
      " [3] getAllTextInPDF(fileLocation::String, pagesPerEntry::Int64)\n",
      "   @ Main.Juissie.SemanticSearch.Backend.PdfReader ~/Projects/School/SoftwareParadigms/csci_6221/src/SemanticSearch/DataReader/PdfReader.jl:31 [inlined]\n",
      " [4] upsert_document_from_pdf(corpus::Main.Juissie.SemanticSearch.Backend.Corpus, filePath::String, doc_name::String)\n",
      "   @ Main.Juissie.SemanticSearch.Backend ~/Projects/School/SoftwareParadigms/csci_6221/src/SemanticSearch/Backend.jl:326\n",
      " [5] top-level scope\n",
      "   @ ~/Projects/School/SoftwareParadigms/csci_6221/notebooks/DataReader/PdfReader.jl - Basic Usage.ipynb:4"
     ]
    }
   ],
   "source": [
    "include(\"../../src/Juissie.jl\")\n",
    "\n",
    "corpus = Juissie.Corpus(\"test2\")\n",
    "Juissie.upsert_document_from_pdf(corpus, \n",
    "                            pdfFilePath, \n",
    "                            \"Massive Activations in Large Language Models\")\n",
    "\n",
    "idx_list, doc_names, chunks, distances = Juissie.search(\n",
    "    corpus, \n",
    "    \"Finding relevant layers\", \n",
    "    3\n",
    ")\n",
    "\n",
    "println(chunks[1])\n",
    "println(chunks[2])\n",
    "println(chunks[3])"
   ]
  }
 ],
 "metadata": {
  "kernelspec": {
   "display_name": "Julia 1.10.0",
   "language": "julia",
   "name": "julia-1.10"
  },
  "language_info": {
   "file_extension": ".jl",
   "mimetype": "application/julia",
   "name": "julia",
   "version": "1.10.0"
  }
 },
 "nbformat": 4,
 "nbformat_minor": 2
}
